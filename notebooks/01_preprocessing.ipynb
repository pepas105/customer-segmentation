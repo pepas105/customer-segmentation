{
 "cells": [
  {
   "cell_type": "markdown",
   "id": "2c1777fb-3536-4b48-8c27-0827192687f6",
   "metadata": {},
   "source": [
    "# Data Preprocessing "
   ]
  },
  {
   "cell_type": "markdown",
   "id": "d2f6d868-6eea-4a9a-8cfe-df8e579326b4",
   "metadata": {},
   "source": [
    "## 1. Data Intake"
   ]
  },
  {
   "cell_type": "markdown",
   "id": "a0e6866a-a208-4437-9d2a-eae6db9dc3fb",
   "metadata": {},
   "source": [
    "### 1.1. Load Dataset"
   ]
  },
  {
   "cell_type": "code",
   "execution_count": 331,
   "id": "0d34f283-3b0f-4ec0-a028-bc1efa669546",
   "metadata": {},
   "outputs": [],
   "source": [
    "import numpy as np\n",
    "import pandas as pd\n",
    "import matplotlib.pyplot as plt\n",
    "%matplotlib inline\n",
    "\n",
    "import seaborn as sns\n",
    "import warnings\n",
    "\n",
    "warnings.filterwarnings('ignore')"
   ]
  },
  {
   "cell_type": "code",
   "execution_count": 332,
   "id": "ef8d81bd-e491-46ed-8f3d-185aa4c591a3",
   "metadata": {},
   "outputs": [
    {
     "data": {
      "text/html": [
       "<div>\n",
       "<style scoped>\n",
       "    .dataframe tbody tr th:only-of-type {\n",
       "        vertical-align: middle;\n",
       "    }\n",
       "\n",
       "    .dataframe tbody tr th {\n",
       "        vertical-align: top;\n",
       "    }\n",
       "\n",
       "    .dataframe thead th {\n",
       "        text-align: right;\n",
       "    }\n",
       "</style>\n",
       "<table border=\"1\" class=\"dataframe\">\n",
       "  <thead>\n",
       "    <tr style=\"text-align: right;\">\n",
       "      <th></th>\n",
       "      <th>Invoice</th>\n",
       "      <th>StockCode</th>\n",
       "      <th>Description</th>\n",
       "      <th>Quantity</th>\n",
       "      <th>InvoiceDate</th>\n",
       "      <th>Price</th>\n",
       "      <th>Customer ID</th>\n",
       "      <th>Country</th>\n",
       "    </tr>\n",
       "  </thead>\n",
       "  <tbody>\n",
       "    <tr>\n",
       "      <th>0</th>\n",
       "      <td>489434</td>\n",
       "      <td>85048</td>\n",
       "      <td>15CM CHRISTMAS GLASS BALL 20 LIGHTS</td>\n",
       "      <td>12</td>\n",
       "      <td>2009-12-01 07:45:00</td>\n",
       "      <td>6.95</td>\n",
       "      <td>13085.0</td>\n",
       "      <td>United Kingdom</td>\n",
       "    </tr>\n",
       "    <tr>\n",
       "      <th>1</th>\n",
       "      <td>489434</td>\n",
       "      <td>79323P</td>\n",
       "      <td>PINK CHERRY LIGHTS</td>\n",
       "      <td>12</td>\n",
       "      <td>2009-12-01 07:45:00</td>\n",
       "      <td>6.75</td>\n",
       "      <td>13085.0</td>\n",
       "      <td>United Kingdom</td>\n",
       "    </tr>\n",
       "    <tr>\n",
       "      <th>2</th>\n",
       "      <td>489434</td>\n",
       "      <td>79323W</td>\n",
       "      <td>WHITE CHERRY LIGHTS</td>\n",
       "      <td>12</td>\n",
       "      <td>2009-12-01 07:45:00</td>\n",
       "      <td>6.75</td>\n",
       "      <td>13085.0</td>\n",
       "      <td>United Kingdom</td>\n",
       "    </tr>\n",
       "    <tr>\n",
       "      <th>3</th>\n",
       "      <td>489434</td>\n",
       "      <td>22041</td>\n",
       "      <td>RECORD FRAME 7\" SINGLE SIZE</td>\n",
       "      <td>48</td>\n",
       "      <td>2009-12-01 07:45:00</td>\n",
       "      <td>2.10</td>\n",
       "      <td>13085.0</td>\n",
       "      <td>United Kingdom</td>\n",
       "    </tr>\n",
       "    <tr>\n",
       "      <th>4</th>\n",
       "      <td>489434</td>\n",
       "      <td>21232</td>\n",
       "      <td>STRAWBERRY CERAMIC TRINKET BOX</td>\n",
       "      <td>24</td>\n",
       "      <td>2009-12-01 07:45:00</td>\n",
       "      <td>1.25</td>\n",
       "      <td>13085.0</td>\n",
       "      <td>United Kingdom</td>\n",
       "    </tr>\n",
       "    <tr>\n",
       "      <th>...</th>\n",
       "      <td>...</td>\n",
       "      <td>...</td>\n",
       "      <td>...</td>\n",
       "      <td>...</td>\n",
       "      <td>...</td>\n",
       "      <td>...</td>\n",
       "      <td>...</td>\n",
       "      <td>...</td>\n",
       "    </tr>\n",
       "    <tr>\n",
       "      <th>1067366</th>\n",
       "      <td>581587</td>\n",
       "      <td>22899</td>\n",
       "      <td>CHILDREN'S APRON DOLLY GIRL</td>\n",
       "      <td>6</td>\n",
       "      <td>2011-12-09 12:50:00</td>\n",
       "      <td>2.10</td>\n",
       "      <td>12680.0</td>\n",
       "      <td>France</td>\n",
       "    </tr>\n",
       "    <tr>\n",
       "      <th>1067367</th>\n",
       "      <td>581587</td>\n",
       "      <td>23254</td>\n",
       "      <td>CHILDRENS CUTLERY DOLLY GIRL</td>\n",
       "      <td>4</td>\n",
       "      <td>2011-12-09 12:50:00</td>\n",
       "      <td>4.15</td>\n",
       "      <td>12680.0</td>\n",
       "      <td>France</td>\n",
       "    </tr>\n",
       "    <tr>\n",
       "      <th>1067368</th>\n",
       "      <td>581587</td>\n",
       "      <td>23255</td>\n",
       "      <td>CHILDRENS CUTLERY CIRCUS PARADE</td>\n",
       "      <td>4</td>\n",
       "      <td>2011-12-09 12:50:00</td>\n",
       "      <td>4.15</td>\n",
       "      <td>12680.0</td>\n",
       "      <td>France</td>\n",
       "    </tr>\n",
       "    <tr>\n",
       "      <th>1067369</th>\n",
       "      <td>581587</td>\n",
       "      <td>22138</td>\n",
       "      <td>BAKING SET 9 PIECE RETROSPOT</td>\n",
       "      <td>3</td>\n",
       "      <td>2011-12-09 12:50:00</td>\n",
       "      <td>4.95</td>\n",
       "      <td>12680.0</td>\n",
       "      <td>France</td>\n",
       "    </tr>\n",
       "    <tr>\n",
       "      <th>1067370</th>\n",
       "      <td>581587</td>\n",
       "      <td>POST</td>\n",
       "      <td>POSTAGE</td>\n",
       "      <td>1</td>\n",
       "      <td>2011-12-09 12:50:00</td>\n",
       "      <td>18.00</td>\n",
       "      <td>12680.0</td>\n",
       "      <td>France</td>\n",
       "    </tr>\n",
       "  </tbody>\n",
       "</table>\n",
       "<p>1067371 rows × 8 columns</p>\n",
       "</div>"
      ],
      "text/plain": [
       "        Invoice StockCode                          Description  Quantity  \\\n",
       "0        489434     85048  15CM CHRISTMAS GLASS BALL 20 LIGHTS        12   \n",
       "1        489434    79323P                   PINK CHERRY LIGHTS        12   \n",
       "2        489434    79323W                  WHITE CHERRY LIGHTS        12   \n",
       "3        489434     22041         RECORD FRAME 7\" SINGLE SIZE         48   \n",
       "4        489434     21232       STRAWBERRY CERAMIC TRINKET BOX        24   \n",
       "...         ...       ...                                  ...       ...   \n",
       "1067366  581587     22899         CHILDREN'S APRON DOLLY GIRL          6   \n",
       "1067367  581587     23254        CHILDRENS CUTLERY DOLLY GIRL          4   \n",
       "1067368  581587     23255      CHILDRENS CUTLERY CIRCUS PARADE         4   \n",
       "1067369  581587     22138        BAKING SET 9 PIECE RETROSPOT          3   \n",
       "1067370  581587      POST                              POSTAGE         1   \n",
       "\n",
       "                 InvoiceDate  Price  Customer ID         Country  \n",
       "0        2009-12-01 07:45:00   6.95      13085.0  United Kingdom  \n",
       "1        2009-12-01 07:45:00   6.75      13085.0  United Kingdom  \n",
       "2        2009-12-01 07:45:00   6.75      13085.0  United Kingdom  \n",
       "3        2009-12-01 07:45:00   2.10      13085.0  United Kingdom  \n",
       "4        2009-12-01 07:45:00   1.25      13085.0  United Kingdom  \n",
       "...                      ...    ...          ...             ...  \n",
       "1067366  2011-12-09 12:50:00   2.10      12680.0          France  \n",
       "1067367  2011-12-09 12:50:00   4.15      12680.0          France  \n",
       "1067368  2011-12-09 12:50:00   4.15      12680.0          France  \n",
       "1067369  2011-12-09 12:50:00   4.95      12680.0          France  \n",
       "1067370  2011-12-09 12:50:00  18.00      12680.0          France  \n",
       "\n",
       "[1067371 rows x 8 columns]"
      ]
     },
     "execution_count": 332,
     "metadata": {},
     "output_type": "execute_result"
    }
   ],
   "source": [
    "file_path = \"../data/online_retail_II.csv\"\n",
    "\n",
    "# Load dataset and convert invoice date\n",
    "df = pd.read_csv(file_path)\n",
    "df"
   ]
  },
  {
   "cell_type": "markdown",
   "id": "95f0dbdc-768d-42ab-be31-0ff72859f791",
   "metadata": {},
   "source": [
    "### 1.2. Basic data inspectation"
   ]
  },
  {
   "cell_type": "code",
   "execution_count": 335,
   "id": "d5ad98d5-948b-48f9-ace9-a4a236812383",
   "metadata": {},
   "outputs": [
    {
     "name": "stdout",
     "output_type": "stream",
     "text": [
      "Invoice         object\n",
      "StockCode       object\n",
      "Description     object\n",
      "Quantity         int64\n",
      "InvoiceDate     object\n",
      "Price          float64\n",
      "Customer ID    float64\n",
      "Country         object\n",
      "dtype: object\n",
      "------------------------\n",
      "<class 'pandas.core.frame.DataFrame'>\n",
      "RangeIndex: 1067371 entries, 0 to 1067370\n",
      "Data columns (total 8 columns):\n",
      " #   Column       Non-Null Count    Dtype  \n",
      "---  ------       --------------    -----  \n",
      " 0   Invoice      1067371 non-null  object \n",
      " 1   StockCode    1067371 non-null  object \n",
      " 2   Description  1062989 non-null  object \n",
      " 3   Quantity     1067371 non-null  int64  \n",
      " 4   InvoiceDate  1067371 non-null  object \n",
      " 5   Price        1067371 non-null  float64\n",
      " 6   Customer ID  824364 non-null   float64\n",
      " 7   Country      1067371 non-null  object \n",
      "dtypes: float64(2), int64(1), object(5)\n",
      "memory usage: 65.1+ MB\n"
     ]
    }
   ],
   "source": [
    "print(df.dtypes)\n",
    "print('------------------------')\n",
    "df.info()"
   ]
  },
  {
   "cell_type": "markdown",
   "id": "db09f6da-2258-4534-993c-54a71c4070b2",
   "metadata": {},
   "source": [
    "Large amount of missing values in columns `Customer ID`, some missing values in column `Description`"
   ]
  },
  {
   "cell_type": "markdown",
   "id": "190fdb0e-ba61-40bf-a9b1-fabbb03f0bed",
   "metadata": {},
   "source": [
    "#### 0 Invoice"
   ]
  },
  {
   "cell_type": "code",
   "execution_count": 338,
   "id": "b45bc1e2-4e51-46c6-b369-e392f24d0ed5",
   "metadata": {},
   "outputs": [
    {
     "data": {
      "text/plain": [
       "53628"
      ]
     },
     "execution_count": 338,
     "metadata": {},
     "output_type": "execute_result"
    }
   ],
   "source": [
    "df.Invoice.nunique()"
   ]
  },
  {
   "cell_type": "markdown",
   "id": "420b4c6f-f2fb-4333-94f0-0454ada4d987",
   "metadata": {},
   "source": [
    "Represents a unique 5-digit invoice identifier. We’ll validate the data to identify any entries that don’t match this pattern."
   ]
  },
  {
   "cell_type": "code",
   "execution_count": 340,
   "id": "597490a3-1f58-42dc-97c3-b81d25431938",
   "metadata": {},
   "outputs": [
    {
     "data": {
      "text/html": [
       "<div>\n",
       "<style scoped>\n",
       "    .dataframe tbody tr th:only-of-type {\n",
       "        vertical-align: middle;\n",
       "    }\n",
       "\n",
       "    .dataframe tbody tr th {\n",
       "        vertical-align: top;\n",
       "    }\n",
       "\n",
       "    .dataframe thead th {\n",
       "        text-align: right;\n",
       "    }\n",
       "</style>\n",
       "<table border=\"1\" class=\"dataframe\">\n",
       "  <thead>\n",
       "    <tr style=\"text-align: right;\">\n",
       "      <th></th>\n",
       "      <th>Invoice</th>\n",
       "      <th>StockCode</th>\n",
       "      <th>Description</th>\n",
       "      <th>Quantity</th>\n",
       "      <th>InvoiceDate</th>\n",
       "      <th>Price</th>\n",
       "      <th>Customer ID</th>\n",
       "      <th>Country</th>\n",
       "    </tr>\n",
       "  </thead>\n",
       "  <tbody>\n",
       "    <tr>\n",
       "      <th>178</th>\n",
       "      <td>C489449</td>\n",
       "      <td>22087</td>\n",
       "      <td>PAPER BUNTING WHITE LACE</td>\n",
       "      <td>-12</td>\n",
       "      <td>2009-12-01 10:33:00</td>\n",
       "      <td>2.95</td>\n",
       "      <td>16321.0</td>\n",
       "      <td>Australia</td>\n",
       "    </tr>\n",
       "    <tr>\n",
       "      <th>179</th>\n",
       "      <td>C489449</td>\n",
       "      <td>85206A</td>\n",
       "      <td>CREAM FELT EASTER EGG BASKET</td>\n",
       "      <td>-6</td>\n",
       "      <td>2009-12-01 10:33:00</td>\n",
       "      <td>1.65</td>\n",
       "      <td>16321.0</td>\n",
       "      <td>Australia</td>\n",
       "    </tr>\n",
       "    <tr>\n",
       "      <th>180</th>\n",
       "      <td>C489449</td>\n",
       "      <td>21895</td>\n",
       "      <td>POTTING SHED SOW 'N' GROW SET</td>\n",
       "      <td>-4</td>\n",
       "      <td>2009-12-01 10:33:00</td>\n",
       "      <td>4.25</td>\n",
       "      <td>16321.0</td>\n",
       "      <td>Australia</td>\n",
       "    </tr>\n",
       "    <tr>\n",
       "      <th>181</th>\n",
       "      <td>C489449</td>\n",
       "      <td>21896</td>\n",
       "      <td>POTTING SHED TWINE</td>\n",
       "      <td>-6</td>\n",
       "      <td>2009-12-01 10:33:00</td>\n",
       "      <td>2.10</td>\n",
       "      <td>16321.0</td>\n",
       "      <td>Australia</td>\n",
       "    </tr>\n",
       "    <tr>\n",
       "      <th>182</th>\n",
       "      <td>C489449</td>\n",
       "      <td>22083</td>\n",
       "      <td>PAPER CHAIN KIT RETRO SPOT</td>\n",
       "      <td>-12</td>\n",
       "      <td>2009-12-01 10:33:00</td>\n",
       "      <td>2.95</td>\n",
       "      <td>16321.0</td>\n",
       "      <td>Australia</td>\n",
       "    </tr>\n",
       "    <tr>\n",
       "      <th>...</th>\n",
       "      <td>...</td>\n",
       "      <td>...</td>\n",
       "      <td>...</td>\n",
       "      <td>...</td>\n",
       "      <td>...</td>\n",
       "      <td>...</td>\n",
       "      <td>...</td>\n",
       "      <td>...</td>\n",
       "    </tr>\n",
       "    <tr>\n",
       "      <th>1065910</th>\n",
       "      <td>C581490</td>\n",
       "      <td>23144</td>\n",
       "      <td>ZINC T-LIGHT HOLDER STARS SMALL</td>\n",
       "      <td>-11</td>\n",
       "      <td>2011-12-09 09:57:00</td>\n",
       "      <td>0.83</td>\n",
       "      <td>14397.0</td>\n",
       "      <td>United Kingdom</td>\n",
       "    </tr>\n",
       "    <tr>\n",
       "      <th>1067002</th>\n",
       "      <td>C581499</td>\n",
       "      <td>M</td>\n",
       "      <td>Manual</td>\n",
       "      <td>-1</td>\n",
       "      <td>2011-12-09 10:28:00</td>\n",
       "      <td>224.69</td>\n",
       "      <td>15498.0</td>\n",
       "      <td>United Kingdom</td>\n",
       "    </tr>\n",
       "    <tr>\n",
       "      <th>1067176</th>\n",
       "      <td>C581568</td>\n",
       "      <td>21258</td>\n",
       "      <td>VICTORIAN SEWING BOX LARGE</td>\n",
       "      <td>-5</td>\n",
       "      <td>2011-12-09 11:57:00</td>\n",
       "      <td>10.95</td>\n",
       "      <td>15311.0</td>\n",
       "      <td>United Kingdom</td>\n",
       "    </tr>\n",
       "    <tr>\n",
       "      <th>1067177</th>\n",
       "      <td>C581569</td>\n",
       "      <td>84978</td>\n",
       "      <td>HANGING HEART JAR T-LIGHT HOLDER</td>\n",
       "      <td>-1</td>\n",
       "      <td>2011-12-09 11:58:00</td>\n",
       "      <td>1.25</td>\n",
       "      <td>17315.0</td>\n",
       "      <td>United Kingdom</td>\n",
       "    </tr>\n",
       "    <tr>\n",
       "      <th>1067178</th>\n",
       "      <td>C581569</td>\n",
       "      <td>20979</td>\n",
       "      <td>36 PENCILS TUBE RED RETROSPOT</td>\n",
       "      <td>-5</td>\n",
       "      <td>2011-12-09 11:58:00</td>\n",
       "      <td>1.25</td>\n",
       "      <td>17315.0</td>\n",
       "      <td>United Kingdom</td>\n",
       "    </tr>\n",
       "  </tbody>\n",
       "</table>\n",
       "<p>19500 rows × 8 columns</p>\n",
       "</div>"
      ],
      "text/plain": [
       "         Invoice StockCode                       Description  Quantity  \\\n",
       "178      C489449     22087          PAPER BUNTING WHITE LACE       -12   \n",
       "179      C489449    85206A      CREAM FELT EASTER EGG BASKET        -6   \n",
       "180      C489449     21895     POTTING SHED SOW 'N' GROW SET        -4   \n",
       "181      C489449     21896                POTTING SHED TWINE        -6   \n",
       "182      C489449     22083        PAPER CHAIN KIT RETRO SPOT       -12   \n",
       "...          ...       ...                               ...       ...   \n",
       "1065910  C581490     23144   ZINC T-LIGHT HOLDER STARS SMALL       -11   \n",
       "1067002  C581499         M                            Manual        -1   \n",
       "1067176  C581568     21258        VICTORIAN SEWING BOX LARGE        -5   \n",
       "1067177  C581569     84978  HANGING HEART JAR T-LIGHT HOLDER        -1   \n",
       "1067178  C581569     20979     36 PENCILS TUBE RED RETROSPOT        -5   \n",
       "\n",
       "                 InvoiceDate   Price  Customer ID         Country  \n",
       "178      2009-12-01 10:33:00    2.95      16321.0       Australia  \n",
       "179      2009-12-01 10:33:00    1.65      16321.0       Australia  \n",
       "180      2009-12-01 10:33:00    4.25      16321.0       Australia  \n",
       "181      2009-12-01 10:33:00    2.10      16321.0       Australia  \n",
       "182      2009-12-01 10:33:00    2.95      16321.0       Australia  \n",
       "...                      ...     ...          ...             ...  \n",
       "1065910  2011-12-09 09:57:00    0.83      14397.0  United Kingdom  \n",
       "1067002  2011-12-09 10:28:00  224.69      15498.0  United Kingdom  \n",
       "1067176  2011-12-09 11:57:00   10.95      15311.0  United Kingdom  \n",
       "1067177  2011-12-09 11:58:00    1.25      17315.0  United Kingdom  \n",
       "1067178  2011-12-09 11:58:00    1.25      17315.0  United Kingdom  \n",
       "\n",
       "[19500 rows x 8 columns]"
      ]
     },
     "execution_count": 340,
     "metadata": {},
     "output_type": "execute_result"
    }
   ],
   "source": [
    "# Check what invoices do not follow the 5-digit pattern\n",
    "noisy_invoices = df[~df.Invoice.str.match('\\d{5}')]\n",
    "noisy_invoices"
   ]
  },
  {
   "cell_type": "markdown",
   "id": "534b10cb-658b-4b2b-b010-bfff910e0639",
   "metadata": {},
   "source": [
    "Invoices prefixed with ‘C’ indicate cancelled orders. These will be excluded from clustering and subsequently removed from the dataset."
   ]
  },
  {
   "cell_type": "markdown",
   "id": "0a785a05-d26e-4bc5-b2b7-08f27869c20b",
   "metadata": {},
   "source": [
    "#### 1 StockCode"
   ]
  },
  {
   "cell_type": "code",
   "execution_count": 343,
   "id": "1dd63d27-ba9f-44b2-9e1f-4f5fc7457731",
   "metadata": {},
   "outputs": [
    {
     "data": {
      "text/plain": [
       "5305"
      ]
     },
     "execution_count": 343,
     "metadata": {},
     "output_type": "execute_result"
    }
   ],
   "source": [
    "df.StockCode.nunique()"
   ]
  },
  {
   "cell_type": "markdown",
   "id": "4e726f65-cc73-4be9-b909-d9eedb543eea",
   "metadata": {},
   "source": [
    "Represents a unique 5-digit product identifier, often followed by a one-letter color suffix. We’ll examine the data for any additional inconsistent or noisy patterns."
   ]
  },
  {
   "cell_type": "code",
   "execution_count": 346,
   "id": "b648ff17-f96d-4792-b232-0d55929cbac4",
   "metadata": {},
   "outputs": [
    {
     "data": {
      "text/html": [
       "<div>\n",
       "<style scoped>\n",
       "    .dataframe tbody tr th:only-of-type {\n",
       "        vertical-align: middle;\n",
       "    }\n",
       "\n",
       "    .dataframe tbody tr th {\n",
       "        vertical-align: top;\n",
       "    }\n",
       "\n",
       "    .dataframe thead th {\n",
       "        text-align: right;\n",
       "    }\n",
       "</style>\n",
       "<table border=\"1\" class=\"dataframe\">\n",
       "  <thead>\n",
       "    <tr style=\"text-align: right;\">\n",
       "      <th></th>\n",
       "      <th>Invoice</th>\n",
       "      <th>StockCode</th>\n",
       "      <th>Description</th>\n",
       "      <th>Quantity</th>\n",
       "      <th>InvoiceDate</th>\n",
       "      <th>Price</th>\n",
       "      <th>Customer ID</th>\n",
       "      <th>Country</th>\n",
       "    </tr>\n",
       "  </thead>\n",
       "  <tbody>\n",
       "    <tr>\n",
       "      <th>89</th>\n",
       "      <td>489439</td>\n",
       "      <td>POST</td>\n",
       "      <td>POSTAGE</td>\n",
       "      <td>3</td>\n",
       "      <td>2009-12-01 09:28:00</td>\n",
       "      <td>18.00</td>\n",
       "      <td>12682.0</td>\n",
       "      <td>France</td>\n",
       "    </tr>\n",
       "    <tr>\n",
       "      <th>126</th>\n",
       "      <td>489444</td>\n",
       "      <td>POST</td>\n",
       "      <td>POSTAGE</td>\n",
       "      <td>1</td>\n",
       "      <td>2009-12-01 09:55:00</td>\n",
       "      <td>141.00</td>\n",
       "      <td>12636.0</td>\n",
       "      <td>USA</td>\n",
       "    </tr>\n",
       "    <tr>\n",
       "      <th>173</th>\n",
       "      <td>489447</td>\n",
       "      <td>POST</td>\n",
       "      <td>POSTAGE</td>\n",
       "      <td>1</td>\n",
       "      <td>2009-12-01 10:10:00</td>\n",
       "      <td>130.00</td>\n",
       "      <td>12362.0</td>\n",
       "      <td>Belgium</td>\n",
       "    </tr>\n",
       "    <tr>\n",
       "      <th>625</th>\n",
       "      <td>489526</td>\n",
       "      <td>POST</td>\n",
       "      <td>POSTAGE</td>\n",
       "      <td>6</td>\n",
       "      <td>2009-12-01 11:50:00</td>\n",
       "      <td>18.00</td>\n",
       "      <td>12533.0</td>\n",
       "      <td>Germany</td>\n",
       "    </tr>\n",
       "    <tr>\n",
       "      <th>735</th>\n",
       "      <td>C489535</td>\n",
       "      <td>D</td>\n",
       "      <td>Discount</td>\n",
       "      <td>-1</td>\n",
       "      <td>2009-12-01 12:11:00</td>\n",
       "      <td>9.00</td>\n",
       "      <td>15299.0</td>\n",
       "      <td>United Kingdom</td>\n",
       "    </tr>\n",
       "    <tr>\n",
       "      <th>...</th>\n",
       "      <td>...</td>\n",
       "      <td>...</td>\n",
       "      <td>...</td>\n",
       "      <td>...</td>\n",
       "      <td>...</td>\n",
       "      <td>...</td>\n",
       "      <td>...</td>\n",
       "      <td>...</td>\n",
       "    </tr>\n",
       "    <tr>\n",
       "      <th>1067002</th>\n",
       "      <td>C581499</td>\n",
       "      <td>M</td>\n",
       "      <td>Manual</td>\n",
       "      <td>-1</td>\n",
       "      <td>2011-12-09 10:28:00</td>\n",
       "      <td>224.69</td>\n",
       "      <td>15498.0</td>\n",
       "      <td>United Kingdom</td>\n",
       "    </tr>\n",
       "    <tr>\n",
       "      <th>1067191</th>\n",
       "      <td>581570</td>\n",
       "      <td>POST</td>\n",
       "      <td>POSTAGE</td>\n",
       "      <td>1</td>\n",
       "      <td>2011-12-09 11:59:00</td>\n",
       "      <td>18.00</td>\n",
       "      <td>12662.0</td>\n",
       "      <td>Germany</td>\n",
       "    </tr>\n",
       "    <tr>\n",
       "      <th>1067228</th>\n",
       "      <td>581574</td>\n",
       "      <td>POST</td>\n",
       "      <td>POSTAGE</td>\n",
       "      <td>2</td>\n",
       "      <td>2011-12-09 12:09:00</td>\n",
       "      <td>18.00</td>\n",
       "      <td>12526.0</td>\n",
       "      <td>Germany</td>\n",
       "    </tr>\n",
       "    <tr>\n",
       "      <th>1067229</th>\n",
       "      <td>581578</td>\n",
       "      <td>POST</td>\n",
       "      <td>POSTAGE</td>\n",
       "      <td>3</td>\n",
       "      <td>2011-12-09 12:16:00</td>\n",
       "      <td>18.00</td>\n",
       "      <td>12713.0</td>\n",
       "      <td>Germany</td>\n",
       "    </tr>\n",
       "    <tr>\n",
       "      <th>1067370</th>\n",
       "      <td>581587</td>\n",
       "      <td>POST</td>\n",
       "      <td>POSTAGE</td>\n",
       "      <td>1</td>\n",
       "      <td>2011-12-09 12:50:00</td>\n",
       "      <td>18.00</td>\n",
       "      <td>12680.0</td>\n",
       "      <td>France</td>\n",
       "    </tr>\n",
       "  </tbody>\n",
       "</table>\n",
       "<p>6093 rows × 8 columns</p>\n",
       "</div>"
      ],
      "text/plain": [
       "         Invoice StockCode Description  Quantity          InvoiceDate   Price  \\\n",
       "89        489439      POST     POSTAGE         3  2009-12-01 09:28:00   18.00   \n",
       "126       489444      POST     POSTAGE         1  2009-12-01 09:55:00  141.00   \n",
       "173       489447      POST     POSTAGE         1  2009-12-01 10:10:00  130.00   \n",
       "625       489526      POST     POSTAGE         6  2009-12-01 11:50:00   18.00   \n",
       "735      C489535         D    Discount        -1  2009-12-01 12:11:00    9.00   \n",
       "...          ...       ...         ...       ...                  ...     ...   \n",
       "1067002  C581499         M      Manual        -1  2011-12-09 10:28:00  224.69   \n",
       "1067191   581570      POST     POSTAGE         1  2011-12-09 11:59:00   18.00   \n",
       "1067228   581574      POST     POSTAGE         2  2011-12-09 12:09:00   18.00   \n",
       "1067229   581578      POST     POSTAGE         3  2011-12-09 12:16:00   18.00   \n",
       "1067370   581587      POST     POSTAGE         1  2011-12-09 12:50:00   18.00   \n",
       "\n",
       "         Customer ID         Country  \n",
       "89           12682.0          France  \n",
       "126          12636.0             USA  \n",
       "173          12362.0         Belgium  \n",
       "625          12533.0         Germany  \n",
       "735          15299.0  United Kingdom  \n",
       "...              ...             ...  \n",
       "1067002      15498.0  United Kingdom  \n",
       "1067191      12662.0         Germany  \n",
       "1067228      12526.0         Germany  \n",
       "1067229      12713.0         Germany  \n",
       "1067370      12680.0          France  \n",
       "\n",
       "[6093 rows x 8 columns]"
      ]
     },
     "execution_count": 346,
     "metadata": {},
     "output_type": "execute_result"
    }
   ],
   "source": [
    "# Check what stock codes do not follow the 5-digit pattern\n",
    "noisy_stock_codes = df[~df.StockCode.str.match('\\d{5}')]\n",
    "noisy_stock_codes"
   ]
  },
  {
   "cell_type": "markdown",
   "id": "3d251771-add5-4e59-8ff8-836a9967036d",
   "metadata": {},
   "source": [
    "Over 6,000 codes don’t match the expected regex, suggesting multiple subpatterns. We’ll inspect their unique values to better understand these variations."
   ]
  },
  {
   "cell_type": "code",
   "execution_count": 352,
   "id": "cf93a5fb-d916-4c85-88fd-2631c7ea2806",
   "metadata": {},
   "outputs": [
    {
     "data": {
      "text/plain": [
       "array(['POST', 'D', 'DCGS0058', 'DCGS0068', 'DOT', 'M', 'DCGS0004',\n",
       "       'DCGS0076', 'C2', 'BANK CHARGES', 'DCGS0003', 'TEST001',\n",
       "       'gift_0001_80', 'DCGS0072', 'gift_0001_20', 'DCGS0044', 'TEST002',\n",
       "       'gift_0001_10', 'gift_0001_50', 'DCGS0066N', 'gift_0001_30',\n",
       "       'PADS', 'ADJUST', 'gift_0001_40', 'gift_0001_60', 'gift_0001_70',\n",
       "       'gift_0001_90', 'DCGSSGIRL', 'DCGS0006', 'DCGS0016', 'DCGS0027',\n",
       "       'DCGS0036', 'DCGS0039', 'DCGS0060', 'DCGS0056', 'DCGS0059', 'GIFT',\n",
       "       'DCGSLBOY', 'm', 'DCGS0053', 'DCGS0062', 'DCGS0037', 'DCGSSBOY',\n",
       "       'DCGSLGIRL', 'S', 'DCGS0069', 'DCGS0070', 'DCGS0075', 'B',\n",
       "       'DCGS0041', 'ADJUST2', 'C3', 'SP1002', 'AMAZONFEE', 'DCGS0055',\n",
       "       'DCGS0074', 'DCGS0057', 'DCGS0073', 'DCGS0071', 'DCGS0066P',\n",
       "       'DCGS0067', 'CRUK'], dtype=object)"
      ]
     },
     "execution_count": 352,
     "metadata": {},
     "output_type": "execute_result"
    }
   ],
   "source": [
    "noisy_stock_codes.StockCode.unique()"
   ]
  },
  {
   "cell_type": "markdown",
   "id": "b626bf34-3b4e-4e8b-b905-2ab94d1b491b",
   "metadata": {},
   "source": [
    "The most irregular patterns correspond to gift or promotional items, administrative or financial entries, and test or placeholder records - all irrelevant for this analysis. Only the 'DCGS' pattern will be retained, as it should represent themed or set products."
   ]
  },
  {
   "cell_type": "code",
   "execution_count": 354,
   "id": "a7bf5ff9-e189-441f-a412-e29ba08ca0ad",
   "metadata": {},
   "outputs": [],
   "source": [
    "stockcode_pattern_to_keep = '\\d{5}|DCGS'"
   ]
  },
  {
   "cell_type": "markdown",
   "id": "eb1f451d-3f05-4188-ac56-e7966e442c4a",
   "metadata": {},
   "source": [
    "#### 3 Quantity "
   ]
  },
  {
   "cell_type": "markdown",
   "id": "dcdea4b6-d3a5-4b5c-9b68-e6709bf2cded",
   "metadata": {},
   "source": [
    "Must be positive to hold value. We’ll identify and review entries with non-positive quantities."
   ]
  },
  {
   "cell_type": "code",
   "execution_count": 360,
   "id": "7b1b7751-a010-4af8-bcf4-483c520902fe",
   "metadata": {},
   "outputs": [
    {
     "data": {
      "text/html": [
       "<div>\n",
       "<style scoped>\n",
       "    .dataframe tbody tr th:only-of-type {\n",
       "        vertical-align: middle;\n",
       "    }\n",
       "\n",
       "    .dataframe tbody tr th {\n",
       "        vertical-align: top;\n",
       "    }\n",
       "\n",
       "    .dataframe thead th {\n",
       "        text-align: right;\n",
       "    }\n",
       "</style>\n",
       "<table border=\"1\" class=\"dataframe\">\n",
       "  <thead>\n",
       "    <tr style=\"text-align: right;\">\n",
       "      <th></th>\n",
       "      <th>Invoice</th>\n",
       "      <th>StockCode</th>\n",
       "      <th>Description</th>\n",
       "      <th>Quantity</th>\n",
       "      <th>InvoiceDate</th>\n",
       "      <th>Price</th>\n",
       "      <th>Customer ID</th>\n",
       "      <th>Country</th>\n",
       "    </tr>\n",
       "  </thead>\n",
       "  <tbody>\n",
       "    <tr>\n",
       "      <th>178</th>\n",
       "      <td>C489449</td>\n",
       "      <td>22087</td>\n",
       "      <td>PAPER BUNTING WHITE LACE</td>\n",
       "      <td>-12</td>\n",
       "      <td>2009-12-01 10:33:00</td>\n",
       "      <td>2.95</td>\n",
       "      <td>16321.0</td>\n",
       "      <td>Australia</td>\n",
       "    </tr>\n",
       "    <tr>\n",
       "      <th>179</th>\n",
       "      <td>C489449</td>\n",
       "      <td>85206A</td>\n",
       "      <td>CREAM FELT EASTER EGG BASKET</td>\n",
       "      <td>-6</td>\n",
       "      <td>2009-12-01 10:33:00</td>\n",
       "      <td>1.65</td>\n",
       "      <td>16321.0</td>\n",
       "      <td>Australia</td>\n",
       "    </tr>\n",
       "    <tr>\n",
       "      <th>180</th>\n",
       "      <td>C489449</td>\n",
       "      <td>21895</td>\n",
       "      <td>POTTING SHED SOW 'N' GROW SET</td>\n",
       "      <td>-4</td>\n",
       "      <td>2009-12-01 10:33:00</td>\n",
       "      <td>4.25</td>\n",
       "      <td>16321.0</td>\n",
       "      <td>Australia</td>\n",
       "    </tr>\n",
       "    <tr>\n",
       "      <th>181</th>\n",
       "      <td>C489449</td>\n",
       "      <td>21896</td>\n",
       "      <td>POTTING SHED TWINE</td>\n",
       "      <td>-6</td>\n",
       "      <td>2009-12-01 10:33:00</td>\n",
       "      <td>2.10</td>\n",
       "      <td>16321.0</td>\n",
       "      <td>Australia</td>\n",
       "    </tr>\n",
       "    <tr>\n",
       "      <th>182</th>\n",
       "      <td>C489449</td>\n",
       "      <td>22083</td>\n",
       "      <td>PAPER CHAIN KIT RETRO SPOT</td>\n",
       "      <td>-12</td>\n",
       "      <td>2009-12-01 10:33:00</td>\n",
       "      <td>2.95</td>\n",
       "      <td>16321.0</td>\n",
       "      <td>Australia</td>\n",
       "    </tr>\n",
       "    <tr>\n",
       "      <th>...</th>\n",
       "      <td>...</td>\n",
       "      <td>...</td>\n",
       "      <td>...</td>\n",
       "      <td>...</td>\n",
       "      <td>...</td>\n",
       "      <td>...</td>\n",
       "      <td>...</td>\n",
       "      <td>...</td>\n",
       "    </tr>\n",
       "    <tr>\n",
       "      <th>1065910</th>\n",
       "      <td>C581490</td>\n",
       "      <td>23144</td>\n",
       "      <td>ZINC T-LIGHT HOLDER STARS SMALL</td>\n",
       "      <td>-11</td>\n",
       "      <td>2011-12-09 09:57:00</td>\n",
       "      <td>0.83</td>\n",
       "      <td>14397.0</td>\n",
       "      <td>United Kingdom</td>\n",
       "    </tr>\n",
       "    <tr>\n",
       "      <th>1067002</th>\n",
       "      <td>C581499</td>\n",
       "      <td>M</td>\n",
       "      <td>Manual</td>\n",
       "      <td>-1</td>\n",
       "      <td>2011-12-09 10:28:00</td>\n",
       "      <td>224.69</td>\n",
       "      <td>15498.0</td>\n",
       "      <td>United Kingdom</td>\n",
       "    </tr>\n",
       "    <tr>\n",
       "      <th>1067176</th>\n",
       "      <td>C581568</td>\n",
       "      <td>21258</td>\n",
       "      <td>VICTORIAN SEWING BOX LARGE</td>\n",
       "      <td>-5</td>\n",
       "      <td>2011-12-09 11:57:00</td>\n",
       "      <td>10.95</td>\n",
       "      <td>15311.0</td>\n",
       "      <td>United Kingdom</td>\n",
       "    </tr>\n",
       "    <tr>\n",
       "      <th>1067177</th>\n",
       "      <td>C581569</td>\n",
       "      <td>84978</td>\n",
       "      <td>HANGING HEART JAR T-LIGHT HOLDER</td>\n",
       "      <td>-1</td>\n",
       "      <td>2011-12-09 11:58:00</td>\n",
       "      <td>1.25</td>\n",
       "      <td>17315.0</td>\n",
       "      <td>United Kingdom</td>\n",
       "    </tr>\n",
       "    <tr>\n",
       "      <th>1067178</th>\n",
       "      <td>C581569</td>\n",
       "      <td>20979</td>\n",
       "      <td>36 PENCILS TUBE RED RETROSPOT</td>\n",
       "      <td>-5</td>\n",
       "      <td>2011-12-09 11:58:00</td>\n",
       "      <td>1.25</td>\n",
       "      <td>17315.0</td>\n",
       "      <td>United Kingdom</td>\n",
       "    </tr>\n",
       "  </tbody>\n",
       "</table>\n",
       "<p>22950 rows × 8 columns</p>\n",
       "</div>"
      ],
      "text/plain": [
       "         Invoice StockCode                       Description  Quantity  \\\n",
       "178      C489449     22087          PAPER BUNTING WHITE LACE       -12   \n",
       "179      C489449    85206A      CREAM FELT EASTER EGG BASKET        -6   \n",
       "180      C489449     21895     POTTING SHED SOW 'N' GROW SET        -4   \n",
       "181      C489449     21896                POTTING SHED TWINE        -6   \n",
       "182      C489449     22083        PAPER CHAIN KIT RETRO SPOT       -12   \n",
       "...          ...       ...                               ...       ...   \n",
       "1065910  C581490     23144   ZINC T-LIGHT HOLDER STARS SMALL       -11   \n",
       "1067002  C581499         M                            Manual        -1   \n",
       "1067176  C581568     21258        VICTORIAN SEWING BOX LARGE        -5   \n",
       "1067177  C581569     84978  HANGING HEART JAR T-LIGHT HOLDER        -1   \n",
       "1067178  C581569     20979     36 PENCILS TUBE RED RETROSPOT        -5   \n",
       "\n",
       "                 InvoiceDate   Price  Customer ID         Country  \n",
       "178      2009-12-01 10:33:00    2.95      16321.0       Australia  \n",
       "179      2009-12-01 10:33:00    1.65      16321.0       Australia  \n",
       "180      2009-12-01 10:33:00    4.25      16321.0       Australia  \n",
       "181      2009-12-01 10:33:00    2.10      16321.0       Australia  \n",
       "182      2009-12-01 10:33:00    2.95      16321.0       Australia  \n",
       "...                      ...     ...          ...             ...  \n",
       "1065910  2011-12-09 09:57:00    0.83      14397.0  United Kingdom  \n",
       "1067002  2011-12-09 10:28:00  224.69      15498.0  United Kingdom  \n",
       "1067176  2011-12-09 11:57:00   10.95      15311.0  United Kingdom  \n",
       "1067177  2011-12-09 11:58:00    1.25      17315.0  United Kingdom  \n",
       "1067178  2011-12-09 11:58:00    1.25      17315.0  United Kingdom  \n",
       "\n",
       "[22950 rows x 8 columns]"
      ]
     },
     "execution_count": 360,
     "metadata": {},
     "output_type": "execute_result"
    }
   ],
   "source": [
    "df[df.Quantity < 0]"
   ]
  },
  {
   "cell_type": "code",
   "execution_count": 362,
   "id": "6e9fd9bf-7293-4784-920d-fa124b8222f1",
   "metadata": {},
   "outputs": [
    {
     "data": {
      "text/html": [
       "<div>\n",
       "<style scoped>\n",
       "    .dataframe tbody tr th:only-of-type {\n",
       "        vertical-align: middle;\n",
       "    }\n",
       "\n",
       "    .dataframe tbody tr th {\n",
       "        vertical-align: top;\n",
       "    }\n",
       "\n",
       "    .dataframe thead th {\n",
       "        text-align: right;\n",
       "    }\n",
       "</style>\n",
       "<table border=\"1\" class=\"dataframe\">\n",
       "  <thead>\n",
       "    <tr style=\"text-align: right;\">\n",
       "      <th></th>\n",
       "      <th>Invoice</th>\n",
       "      <th>StockCode</th>\n",
       "      <th>Description</th>\n",
       "      <th>Quantity</th>\n",
       "      <th>InvoiceDate</th>\n",
       "      <th>Price</th>\n",
       "      <th>Customer ID</th>\n",
       "      <th>Country</th>\n",
       "    </tr>\n",
       "  </thead>\n",
       "  <tbody>\n",
       "  </tbody>\n",
       "</table>\n",
       "</div>"
      ],
      "text/plain": [
       "Empty DataFrame\n",
       "Columns: [Invoice, StockCode, Description, Quantity, InvoiceDate, Price, Customer ID, Country]\n",
       "Index: []"
      ]
     },
     "execution_count": 362,
     "metadata": {},
     "output_type": "execute_result"
    }
   ],
   "source": [
    "df[df.Quantity == 0]"
   ]
  },
  {
   "cell_type": "markdown",
   "id": "42e02c6e-8a2c-443b-a4f3-4efd3ecd6997",
   "metadata": {},
   "source": [
    "Transactions with negative quantities indicate refunds. Since clustering will use gross monetary values, these records will be excluded from the dataset."
   ]
  },
  {
   "cell_type": "markdown",
   "id": "7ffcae63-b6ff-4518-baf0-3897a2092b4a",
   "metadata": {},
   "source": [
    "#### 4 InvoiceDate\n",
    "Contains no missing values, so no data quality inspection is needed. However, it will be converted to a proper datetime format"
   ]
  },
  {
   "cell_type": "markdown",
   "id": "80a157f7-dc42-47da-b03c-eaa973205fe0",
   "metadata": {},
   "source": [
    "#### 5 Price\n",
    "Follows the same logic as Quantity -- only positive values are meaningful. We’ll check for zero or negative prices, which typically indicate data entry errors, refunds, or non-sales items. Such records will be excluded to ensure accurate monetary and clustering analysis"
   ]
  },
  {
   "cell_type": "code",
   "execution_count": 367,
   "id": "9d87dcea-a2ea-462e-a48c-90f2a8eda4ad",
   "metadata": {},
   "outputs": [
    {
     "data": {
      "text/html": [
       "<div>\n",
       "<style scoped>\n",
       "    .dataframe tbody tr th:only-of-type {\n",
       "        vertical-align: middle;\n",
       "    }\n",
       "\n",
       "    .dataframe tbody tr th {\n",
       "        vertical-align: top;\n",
       "    }\n",
       "\n",
       "    .dataframe thead th {\n",
       "        text-align: right;\n",
       "    }\n",
       "</style>\n",
       "<table border=\"1\" class=\"dataframe\">\n",
       "  <thead>\n",
       "    <tr style=\"text-align: right;\">\n",
       "      <th></th>\n",
       "      <th>Invoice</th>\n",
       "      <th>StockCode</th>\n",
       "      <th>Description</th>\n",
       "      <th>Quantity</th>\n",
       "      <th>InvoiceDate</th>\n",
       "      <th>Price</th>\n",
       "      <th>Customer ID</th>\n",
       "      <th>Country</th>\n",
       "    </tr>\n",
       "  </thead>\n",
       "  <tbody>\n",
       "    <tr>\n",
       "      <th>179403</th>\n",
       "      <td>A506401</td>\n",
       "      <td>B</td>\n",
       "      <td>Adjust bad debt</td>\n",
       "      <td>1</td>\n",
       "      <td>2010-04-29 13:36:00</td>\n",
       "      <td>-53594.36</td>\n",
       "      <td>NaN</td>\n",
       "      <td>United Kingdom</td>\n",
       "    </tr>\n",
       "    <tr>\n",
       "      <th>276274</th>\n",
       "      <td>A516228</td>\n",
       "      <td>B</td>\n",
       "      <td>Adjust bad debt</td>\n",
       "      <td>1</td>\n",
       "      <td>2010-07-19 11:24:00</td>\n",
       "      <td>-44031.79</td>\n",
       "      <td>NaN</td>\n",
       "      <td>United Kingdom</td>\n",
       "    </tr>\n",
       "    <tr>\n",
       "      <th>403472</th>\n",
       "      <td>A528059</td>\n",
       "      <td>B</td>\n",
       "      <td>Adjust bad debt</td>\n",
       "      <td>1</td>\n",
       "      <td>2010-10-20 12:04:00</td>\n",
       "      <td>-38925.87</td>\n",
       "      <td>NaN</td>\n",
       "      <td>United Kingdom</td>\n",
       "    </tr>\n",
       "    <tr>\n",
       "      <th>825444</th>\n",
       "      <td>A563186</td>\n",
       "      <td>B</td>\n",
       "      <td>Adjust bad debt</td>\n",
       "      <td>1</td>\n",
       "      <td>2011-08-12 14:51:00</td>\n",
       "      <td>-11062.06</td>\n",
       "      <td>NaN</td>\n",
       "      <td>United Kingdom</td>\n",
       "    </tr>\n",
       "    <tr>\n",
       "      <th>825445</th>\n",
       "      <td>A563187</td>\n",
       "      <td>B</td>\n",
       "      <td>Adjust bad debt</td>\n",
       "      <td>1</td>\n",
       "      <td>2011-08-12 14:52:00</td>\n",
       "      <td>-11062.06</td>\n",
       "      <td>NaN</td>\n",
       "      <td>United Kingdom</td>\n",
       "    </tr>\n",
       "  </tbody>\n",
       "</table>\n",
       "</div>"
      ],
      "text/plain": [
       "        Invoice StockCode      Description  Quantity          InvoiceDate  \\\n",
       "179403  A506401         B  Adjust bad debt         1  2010-04-29 13:36:00   \n",
       "276274  A516228         B  Adjust bad debt         1  2010-07-19 11:24:00   \n",
       "403472  A528059         B  Adjust bad debt         1  2010-10-20 12:04:00   \n",
       "825444  A563186         B  Adjust bad debt         1  2011-08-12 14:51:00   \n",
       "825445  A563187         B  Adjust bad debt         1  2011-08-12 14:52:00   \n",
       "\n",
       "           Price  Customer ID         Country  \n",
       "179403 -53594.36          NaN  United Kingdom  \n",
       "276274 -44031.79          NaN  United Kingdom  \n",
       "403472 -38925.87          NaN  United Kingdom  \n",
       "825444 -11062.06          NaN  United Kingdom  \n",
       "825445 -11062.06          NaN  United Kingdom  "
      ]
     },
     "execution_count": 367,
     "metadata": {},
     "output_type": "execute_result"
    }
   ],
   "source": [
    "df[df.Price < 0]"
   ]
  },
  {
   "cell_type": "code",
   "execution_count": 369,
   "id": "3ebf162a-257f-4ef7-8a41-76c2fa2624d7",
   "metadata": {},
   "outputs": [
    {
     "data": {
      "text/html": [
       "<div>\n",
       "<style scoped>\n",
       "    .dataframe tbody tr th:only-of-type {\n",
       "        vertical-align: middle;\n",
       "    }\n",
       "\n",
       "    .dataframe tbody tr th {\n",
       "        vertical-align: top;\n",
       "    }\n",
       "\n",
       "    .dataframe thead th {\n",
       "        text-align: right;\n",
       "    }\n",
       "</style>\n",
       "<table border=\"1\" class=\"dataframe\">\n",
       "  <thead>\n",
       "    <tr style=\"text-align: right;\">\n",
       "      <th></th>\n",
       "      <th>Invoice</th>\n",
       "      <th>StockCode</th>\n",
       "      <th>Description</th>\n",
       "      <th>Quantity</th>\n",
       "      <th>InvoiceDate</th>\n",
       "      <th>Price</th>\n",
       "      <th>Customer ID</th>\n",
       "      <th>Country</th>\n",
       "    </tr>\n",
       "  </thead>\n",
       "  <tbody>\n",
       "    <tr>\n",
       "      <th>263</th>\n",
       "      <td>489464</td>\n",
       "      <td>21733</td>\n",
       "      <td>85123a mixed</td>\n",
       "      <td>-96</td>\n",
       "      <td>2009-12-01 10:52:00</td>\n",
       "      <td>0.0</td>\n",
       "      <td>NaN</td>\n",
       "      <td>United Kingdom</td>\n",
       "    </tr>\n",
       "    <tr>\n",
       "      <th>283</th>\n",
       "      <td>489463</td>\n",
       "      <td>71477</td>\n",
       "      <td>short</td>\n",
       "      <td>-240</td>\n",
       "      <td>2009-12-01 10:52:00</td>\n",
       "      <td>0.0</td>\n",
       "      <td>NaN</td>\n",
       "      <td>United Kingdom</td>\n",
       "    </tr>\n",
       "    <tr>\n",
       "      <th>284</th>\n",
       "      <td>489467</td>\n",
       "      <td>85123A</td>\n",
       "      <td>21733 mixed</td>\n",
       "      <td>-192</td>\n",
       "      <td>2009-12-01 10:53:00</td>\n",
       "      <td>0.0</td>\n",
       "      <td>NaN</td>\n",
       "      <td>United Kingdom</td>\n",
       "    </tr>\n",
       "    <tr>\n",
       "      <th>470</th>\n",
       "      <td>489521</td>\n",
       "      <td>21646</td>\n",
       "      <td>NaN</td>\n",
       "      <td>-50</td>\n",
       "      <td>2009-12-01 11:44:00</td>\n",
       "      <td>0.0</td>\n",
       "      <td>NaN</td>\n",
       "      <td>United Kingdom</td>\n",
       "    </tr>\n",
       "    <tr>\n",
       "      <th>3114</th>\n",
       "      <td>489655</td>\n",
       "      <td>20683</td>\n",
       "      <td>NaN</td>\n",
       "      <td>-44</td>\n",
       "      <td>2009-12-01 17:26:00</td>\n",
       "      <td>0.0</td>\n",
       "      <td>NaN</td>\n",
       "      <td>United Kingdom</td>\n",
       "    </tr>\n",
       "    <tr>\n",
       "      <th>...</th>\n",
       "      <td>...</td>\n",
       "      <td>...</td>\n",
       "      <td>...</td>\n",
       "      <td>...</td>\n",
       "      <td>...</td>\n",
       "      <td>...</td>\n",
       "      <td>...</td>\n",
       "      <td>...</td>\n",
       "    </tr>\n",
       "    <tr>\n",
       "      <th>1062442</th>\n",
       "      <td>581234</td>\n",
       "      <td>72817</td>\n",
       "      <td>NaN</td>\n",
       "      <td>27</td>\n",
       "      <td>2011-12-08 10:33:00</td>\n",
       "      <td>0.0</td>\n",
       "      <td>NaN</td>\n",
       "      <td>United Kingdom</td>\n",
       "    </tr>\n",
       "    <tr>\n",
       "      <th>1063965</th>\n",
       "      <td>581406</td>\n",
       "      <td>46000M</td>\n",
       "      <td>POLYESTER FILLER PAD 45x45cm</td>\n",
       "      <td>240</td>\n",
       "      <td>2011-12-08 13:58:00</td>\n",
       "      <td>0.0</td>\n",
       "      <td>NaN</td>\n",
       "      <td>United Kingdom</td>\n",
       "    </tr>\n",
       "    <tr>\n",
       "      <th>1063966</th>\n",
       "      <td>581406</td>\n",
       "      <td>46000S</td>\n",
       "      <td>POLYESTER FILLER PAD 40x40cm</td>\n",
       "      <td>300</td>\n",
       "      <td>2011-12-08 13:58:00</td>\n",
       "      <td>0.0</td>\n",
       "      <td>NaN</td>\n",
       "      <td>United Kingdom</td>\n",
       "    </tr>\n",
       "    <tr>\n",
       "      <th>1064015</th>\n",
       "      <td>581408</td>\n",
       "      <td>85175</td>\n",
       "      <td>NaN</td>\n",
       "      <td>20</td>\n",
       "      <td>2011-12-08 14:06:00</td>\n",
       "      <td>0.0</td>\n",
       "      <td>NaN</td>\n",
       "      <td>United Kingdom</td>\n",
       "    </tr>\n",
       "    <tr>\n",
       "      <th>1064386</th>\n",
       "      <td>581422</td>\n",
       "      <td>23169</td>\n",
       "      <td>smashed</td>\n",
       "      <td>-235</td>\n",
       "      <td>2011-12-08 15:24:00</td>\n",
       "      <td>0.0</td>\n",
       "      <td>NaN</td>\n",
       "      <td>United Kingdom</td>\n",
       "    </tr>\n",
       "  </tbody>\n",
       "</table>\n",
       "<p>6202 rows × 8 columns</p>\n",
       "</div>"
      ],
      "text/plain": [
       "        Invoice StockCode                   Description  Quantity  \\\n",
       "263      489464     21733                  85123a mixed       -96   \n",
       "283      489463     71477                         short      -240   \n",
       "284      489467    85123A                   21733 mixed      -192   \n",
       "470      489521     21646                           NaN       -50   \n",
       "3114     489655     20683                           NaN       -44   \n",
       "...         ...       ...                           ...       ...   \n",
       "1062442  581234     72817                           NaN        27   \n",
       "1063965  581406    46000M  POLYESTER FILLER PAD 45x45cm       240   \n",
       "1063966  581406    46000S  POLYESTER FILLER PAD 40x40cm       300   \n",
       "1064015  581408     85175                           NaN        20   \n",
       "1064386  581422     23169                       smashed      -235   \n",
       "\n",
       "                 InvoiceDate  Price  Customer ID         Country  \n",
       "263      2009-12-01 10:52:00    0.0          NaN  United Kingdom  \n",
       "283      2009-12-01 10:52:00    0.0          NaN  United Kingdom  \n",
       "284      2009-12-01 10:53:00    0.0          NaN  United Kingdom  \n",
       "470      2009-12-01 11:44:00    0.0          NaN  United Kingdom  \n",
       "3114     2009-12-01 17:26:00    0.0          NaN  United Kingdom  \n",
       "...                      ...    ...          ...             ...  \n",
       "1062442  2011-12-08 10:33:00    0.0          NaN  United Kingdom  \n",
       "1063965  2011-12-08 13:58:00    0.0          NaN  United Kingdom  \n",
       "1063966  2011-12-08 13:58:00    0.0          NaN  United Kingdom  \n",
       "1064015  2011-12-08 14:06:00    0.0          NaN  United Kingdom  \n",
       "1064386  2011-12-08 15:24:00    0.0          NaN  United Kingdom  \n",
       "\n",
       "[6202 rows x 8 columns]"
      ]
     },
     "execution_count": 369,
     "metadata": {},
     "output_type": "execute_result"
    }
   ],
   "source": [
    "df[df.Price == 0]"
   ]
  },
  {
   "cell_type": "markdown",
   "id": "c02c1524-72f8-4479-9e49-f25757bbe196",
   "metadata": {},
   "source": [
    "Records with zero or negative prices lack CustomerID, confirming they're internal or administrative and should be removed."
   ]
  },
  {
   "cell_type": "markdown",
   "id": "c3d13633-dff8-42f7-858f-0762ea6221be",
   "metadata": {},
   "source": [
    "#### 6 Customer ID"
   ]
  },
  {
   "cell_type": "markdown",
   "id": "a9e6a13a-b207-4d89-90df-e3f88627316c",
   "metadata": {},
   "source": [
    "Represents a unique 5-digit customer identifier stored as a float due to missing values (`NaN` has `float64` dtype).\n",
    "\n",
    "The column contains numerous missing values, likely corresponding to non–customer-related records. These rows will be removed to retain only relevant customer data."
   ]
  },
  {
   "cell_type": "code",
   "execution_count": 374,
   "id": "982d45b0-b3ef-4567-a7c5-eafa08165560",
   "metadata": {},
   "outputs": [
    {
     "name": "stdout",
     "output_type": "stream",
     "text": [
      "5942\n"
     ]
    }
   ],
   "source": [
    "print(df['Customer ID'].nunique())"
   ]
  },
  {
   "cell_type": "markdown",
   "id": "0d35145c-fdf7-488f-83b3-85fdd2366c92",
   "metadata": {},
   "source": [
    "Approximately 6,000 unique customers will be analyzed. \n",
    "\n",
    "The records must be validated to confirm all identifiers adhere to the expected pattern."
   ]
  },
  {
   "cell_type": "code",
   "execution_count": 377,
   "id": "b2a7d5ea-8f09-4a95-b0a8-6f309b5bb791",
   "metadata": {},
   "outputs": [],
   "source": [
    "assert (df['Customer ID'].dropna() < 100000).all()"
   ]
  },
  {
   "cell_type": "markdown",
   "id": "bacf7a0f-1ce1-41e2-b414-fbf35ea9fe4f",
   "metadata": {},
   "source": [
    "### 1.3. Conclusion"
   ]
  },
  {
   "cell_type": "markdown",
   "id": "2f72dddf-4b20-4861-9d49-e6e37d4e0cfb",
   "metadata": {},
   "source": [
    "\n",
    "\n",
    "- Columns Description and Country were excluded from inspection, as they are not relevant to the analysis."
   ]
  },
  {
   "cell_type": "markdown",
   "id": "f4691430-a7c8-466e-acac-d08e54432683",
   "metadata": {},
   "source": [
    "### Summary of Basic Data Inspection\n",
    "\n",
    "* **Invoice** – Represents a unique 5-digit invoice number with no missing values. Around **19,500 records** are marked as cancelled (prefix **'C'**), which are not relevant for behavioral analysis and will be **removed**.\n",
    "\n",
    "* **StockCode** – Represents a product code with no missing values. Over **6,000 irregular codes** deviate from the expected 5-digit pattern, primarily representing gifts, administrative, or test items. Only 5-digit codes and those with the **'DCGS'** prefix (themed/set items) will be retained.\n",
    "\n",
    "* **Description** – Text description of products. Contains missing values and does not contribute to RFM or customer segmentation. Since it does not contribute to behavioral or RFM parameters, it **does not contribute to customer analysis**.\n",
    "\n",
    "* **Quantity** – Number of units sold per transaction, with no missing values. Negative quantities correspond to refunds and will be **excluded**, as only positive quantities contribute to gross monetary value calculations used for clustering.\n",
    "\n",
    "* **InvoiceDate** – Timestamp of the transaction, complete with no missing values. Will be **converted to datetime format**, and **Year**, **Month**, and **Day** will be extracted to support temporal segmentation and recency analysis in the RFM model.\n",
    "\n",
    "* **Price** – Unit price of each product. Zero or negative prices typically represent internal or accounting adjustments and are **not relevant for customer analysis**. These records will be **removed** to ensure accuracy in monetary metrics.\n",
    "\n",
    "* **CustomerID** – Unique 5-digit identifier stored as `float64` due to missing (`NaN`) entries. Roughly **20%** of records lack a customer ID, indicating non-customer-related transactions. These rows will be **removed**, and the column will be **converted to string** type for consistency. After cleaning, the dataset will represent approximately **6,000 unique customers**.\n",
    "\n",
    "* **Country** – Location of the transaction, with no missing values. Since it does not contribute to behavioral or RFM parameters, it **does not contribute to customer analysis**."
   ]
  },
  {
   "cell_type": "markdown",
   "id": "3906a667-d04c-40de-a2f3-559989cee8b6",
   "metadata": {},
   "source": [
    "**In summary**, the dataset will be refined to include only relevant, customer-related transactions with accurate monetary and temporal information—forming a clean foundation for segmentation and RFM-based analysis."
   ]
  },
  {
   "cell_type": "markdown",
   "id": "36613c9c-c4fb-40a6-8f20-d08e6a4fbb9d",
   "metadata": {},
   "source": [
    "## 2. Data Cleaning "
   ]
  },
  {
   "cell_type": "markdown",
   "id": "979717ca-2697-4607-8167-90bec0a7fbf0",
   "metadata": {},
   "source": [
    "All column names will be converted to **snake_case** for consistency and easier handling in analysis."
   ]
  },
  {
   "cell_type": "code",
   "execution_count": 264,
   "id": "b67830b2-6528-4054-b8e1-c1718ca02c25",
   "metadata": {},
   "outputs": [
    {
     "data": {
      "text/plain": [
       "Index(['invoice', 'stockcode', 'description', 'quantity', 'invoicedate',\n",
       "       'price', 'customer_id', 'country'],\n",
       "      dtype='object')"
      ]
     },
     "execution_count": 264,
     "metadata": {},
     "output_type": "execute_result"
    }
   ],
   "source": [
    "df.columns = (\n",
    "    df.columns\n",
    "      .str.strip()                 # remove extra spaces\n",
    "      .str.replace(r'\\s+', '_', regex=True)  # spaces → underscores\n",
    "      .str.replace('-', '_', regex=False)     # dashes → underscores\n",
    "      .str.lower()                 # lowercase\n",
    ")\n",
    "\n",
    "df.columns "
   ]
  },
  {
   "cell_type": "code",
   "execution_count": 266,
   "id": "0d0aa92f-83f5-42ef-94c5-9c184783655b",
   "metadata": {},
   "outputs": [
    {
     "data": {
      "text/plain": [
       "Index(['invoice_no', 'stock_code', 'description', 'quantity', 'invoice_date',\n",
       "       'unit_price', 'customer_id', 'country'],\n",
       "      dtype='object')"
      ]
     },
     "execution_count": 266,
     "metadata": {},
     "output_type": "execute_result"
    }
   ],
   "source": [
    "# Additional formatting needed\n",
    "df.rename(columns = {\n",
    "    'invoice' : 'invoice_no',\n",
    "    'stockcode': 'stock_code',\n",
    "    'invoicedate': 'invoice_date',\n",
    "    'price': 'unit_price',\n",
    "}, inplace = True)\n",
    "\n",
    "df.columns "
   ]
  },
  {
   "cell_type": "markdown",
   "id": "3a943b00-2809-4ff1-ab1d-3a5043adbe1d",
   "metadata": {},
   "source": [
    "### 2.2. Handle duplicated data and missing values"
   ]
  },
  {
   "cell_type": "markdown",
   "id": "9ed4aab0-b882-4b76-9647-25b478240f52",
   "metadata": {},
   "source": [
    "First, remove duplicate rows while excluding `Description`, as product descriptions may have changed over time."
   ]
  },
  {
   "cell_type": "code",
   "execution_count": 387,
   "id": "ab4e4f29-8f06-4996-96a2-187cad541d8e",
   "metadata": {},
   "outputs": [
    {
     "data": {
      "text/html": [
       "<div>\n",
       "<style scoped>\n",
       "    .dataframe tbody tr th:only-of-type {\n",
       "        vertical-align: middle;\n",
       "    }\n",
       "\n",
       "    .dataframe tbody tr th {\n",
       "        vertical-align: top;\n",
       "    }\n",
       "\n",
       "    .dataframe thead th {\n",
       "        text-align: right;\n",
       "    }\n",
       "</style>\n",
       "<table border=\"1\" class=\"dataframe\">\n",
       "  <thead>\n",
       "    <tr style=\"text-align: right;\">\n",
       "      <th></th>\n",
       "      <th>Invoice</th>\n",
       "      <th>StockCode</th>\n",
       "      <th>Description</th>\n",
       "      <th>Quantity</th>\n",
       "      <th>InvoiceDate</th>\n",
       "      <th>Price</th>\n",
       "      <th>Customer ID</th>\n",
       "      <th>Country</th>\n",
       "    </tr>\n",
       "  </thead>\n",
       "  <tbody>\n",
       "    <tr>\n",
       "      <th>0</th>\n",
       "      <td>489434</td>\n",
       "      <td>85048</td>\n",
       "      <td>15CM CHRISTMAS GLASS BALL 20 LIGHTS</td>\n",
       "      <td>12</td>\n",
       "      <td>2009-12-01 07:45:00</td>\n",
       "      <td>6.95</td>\n",
       "      <td>13085.0</td>\n",
       "      <td>United Kingdom</td>\n",
       "    </tr>\n",
       "    <tr>\n",
       "      <th>1</th>\n",
       "      <td>489434</td>\n",
       "      <td>79323P</td>\n",
       "      <td>PINK CHERRY LIGHTS</td>\n",
       "      <td>12</td>\n",
       "      <td>2009-12-01 07:45:00</td>\n",
       "      <td>6.75</td>\n",
       "      <td>13085.0</td>\n",
       "      <td>United Kingdom</td>\n",
       "    </tr>\n",
       "    <tr>\n",
       "      <th>2</th>\n",
       "      <td>489434</td>\n",
       "      <td>79323W</td>\n",
       "      <td>WHITE CHERRY LIGHTS</td>\n",
       "      <td>12</td>\n",
       "      <td>2009-12-01 07:45:00</td>\n",
       "      <td>6.75</td>\n",
       "      <td>13085.0</td>\n",
       "      <td>United Kingdom</td>\n",
       "    </tr>\n",
       "    <tr>\n",
       "      <th>3</th>\n",
       "      <td>489434</td>\n",
       "      <td>22041</td>\n",
       "      <td>RECORD FRAME 7\" SINGLE SIZE</td>\n",
       "      <td>48</td>\n",
       "      <td>2009-12-01 07:45:00</td>\n",
       "      <td>2.10</td>\n",
       "      <td>13085.0</td>\n",
       "      <td>United Kingdom</td>\n",
       "    </tr>\n",
       "    <tr>\n",
       "      <th>4</th>\n",
       "      <td>489434</td>\n",
       "      <td>21232</td>\n",
       "      <td>STRAWBERRY CERAMIC TRINKET BOX</td>\n",
       "      <td>24</td>\n",
       "      <td>2009-12-01 07:45:00</td>\n",
       "      <td>1.25</td>\n",
       "      <td>13085.0</td>\n",
       "      <td>United Kingdom</td>\n",
       "    </tr>\n",
       "    <tr>\n",
       "      <th>...</th>\n",
       "      <td>...</td>\n",
       "      <td>...</td>\n",
       "      <td>...</td>\n",
       "      <td>...</td>\n",
       "      <td>...</td>\n",
       "      <td>...</td>\n",
       "      <td>...</td>\n",
       "      <td>...</td>\n",
       "    </tr>\n",
       "    <tr>\n",
       "      <th>1067366</th>\n",
       "      <td>581587</td>\n",
       "      <td>22899</td>\n",
       "      <td>CHILDREN'S APRON DOLLY GIRL</td>\n",
       "      <td>6</td>\n",
       "      <td>2011-12-09 12:50:00</td>\n",
       "      <td>2.10</td>\n",
       "      <td>12680.0</td>\n",
       "      <td>France</td>\n",
       "    </tr>\n",
       "    <tr>\n",
       "      <th>1067367</th>\n",
       "      <td>581587</td>\n",
       "      <td>23254</td>\n",
       "      <td>CHILDRENS CUTLERY DOLLY GIRL</td>\n",
       "      <td>4</td>\n",
       "      <td>2011-12-09 12:50:00</td>\n",
       "      <td>4.15</td>\n",
       "      <td>12680.0</td>\n",
       "      <td>France</td>\n",
       "    </tr>\n",
       "    <tr>\n",
       "      <th>1067368</th>\n",
       "      <td>581587</td>\n",
       "      <td>23255</td>\n",
       "      <td>CHILDRENS CUTLERY CIRCUS PARADE</td>\n",
       "      <td>4</td>\n",
       "      <td>2011-12-09 12:50:00</td>\n",
       "      <td>4.15</td>\n",
       "      <td>12680.0</td>\n",
       "      <td>France</td>\n",
       "    </tr>\n",
       "    <tr>\n",
       "      <th>1067369</th>\n",
       "      <td>581587</td>\n",
       "      <td>22138</td>\n",
       "      <td>BAKING SET 9 PIECE RETROSPOT</td>\n",
       "      <td>3</td>\n",
       "      <td>2011-12-09 12:50:00</td>\n",
       "      <td>4.95</td>\n",
       "      <td>12680.0</td>\n",
       "      <td>France</td>\n",
       "    </tr>\n",
       "    <tr>\n",
       "      <th>1067370</th>\n",
       "      <td>581587</td>\n",
       "      <td>POST</td>\n",
       "      <td>POSTAGE</td>\n",
       "      <td>1</td>\n",
       "      <td>2011-12-09 12:50:00</td>\n",
       "      <td>18.00</td>\n",
       "      <td>12680.0</td>\n",
       "      <td>France</td>\n",
       "    </tr>\n",
       "  </tbody>\n",
       "</table>\n",
       "<p>1033034 rows × 8 columns</p>\n",
       "</div>"
      ],
      "text/plain": [
       "        Invoice StockCode                          Description  Quantity  \\\n",
       "0        489434     85048  15CM CHRISTMAS GLASS BALL 20 LIGHTS        12   \n",
       "1        489434    79323P                   PINK CHERRY LIGHTS        12   \n",
       "2        489434    79323W                  WHITE CHERRY LIGHTS        12   \n",
       "3        489434     22041         RECORD FRAME 7\" SINGLE SIZE         48   \n",
       "4        489434     21232       STRAWBERRY CERAMIC TRINKET BOX        24   \n",
       "...         ...       ...                                  ...       ...   \n",
       "1067366  581587     22899         CHILDREN'S APRON DOLLY GIRL          6   \n",
       "1067367  581587     23254        CHILDRENS CUTLERY DOLLY GIRL          4   \n",
       "1067368  581587     23255      CHILDRENS CUTLERY CIRCUS PARADE         4   \n",
       "1067369  581587     22138        BAKING SET 9 PIECE RETROSPOT          3   \n",
       "1067370  581587      POST                              POSTAGE         1   \n",
       "\n",
       "                 InvoiceDate  Price  Customer ID         Country  \n",
       "0        2009-12-01 07:45:00   6.95      13085.0  United Kingdom  \n",
       "1        2009-12-01 07:45:00   6.75      13085.0  United Kingdom  \n",
       "2        2009-12-01 07:45:00   6.75      13085.0  United Kingdom  \n",
       "3        2009-12-01 07:45:00   2.10      13085.0  United Kingdom  \n",
       "4        2009-12-01 07:45:00   1.25      13085.0  United Kingdom  \n",
       "...                      ...    ...          ...             ...  \n",
       "1067366  2011-12-09 12:50:00   2.10      12680.0          France  \n",
       "1067367  2011-12-09 12:50:00   4.15      12680.0          France  \n",
       "1067368  2011-12-09 12:50:00   4.15      12680.0          France  \n",
       "1067369  2011-12-09 12:50:00   4.95      12680.0          France  \n",
       "1067370  2011-12-09 12:50:00  18.00      12680.0          France  \n",
       "\n",
       "[1033034 rows x 8 columns]"
      ]
     },
     "execution_count": 387,
     "metadata": {},
     "output_type": "execute_result"
    }
   ],
   "source": [
    "# Remove duplicated rows based \n",
    "subset = list(df.columns)\n",
    "subset.remove('Description')\n",
    "df = df.drop_duplicates(subset = subset)\n",
    "df"
   ]
  },
  {
   "cell_type": "markdown",
   "id": "0eac3d26-78c3-4eb1-a216-f1f000056cc5",
   "metadata": {},
   "source": [
    "Missing descriptions are acceptable since the column isn’t used for segmentation. However, transactions without a `Customer ID` will be removed, as the analysis focuses on customer behavior."
   ]
  },
  {
   "cell_type": "code",
   "execution_count": 412,
   "id": "784b2b14-5608-489f-aa8f-b178ea509338",
   "metadata": {},
   "outputs": [],
   "source": [
    "df.dropna(subset = ['Customer ID'], inplace = True)"
   ]
  },
  {
   "cell_type": "markdown",
   "id": "010cd492-690a-4224-bbbc-5812ce4bb581",
   "metadata": {},
   "source": [
    "### 2.3. Handle Noisy Data"
   ]
  },
  {
   "cell_type": "markdown",
   "id": "1986aef4-7ded-48f5-8f2e-b4fe20aa8c67",
   "metadata": {},
   "source": [
    "Exclude cancelled invoices (`Invoice` starting with **'C'**) to drop credit notes/reversals."
   ]
  },
  {
   "cell_type": "code",
   "execution_count": 418,
   "id": "c1095bcb-27f9-4157-ab1c-f859f86ede6a",
   "metadata": {},
   "outputs": [
    {
     "data": {
      "text/plain": [
       "(779493, 8)"
      ]
     },
     "execution_count": 418,
     "metadata": {},
     "output_type": "execute_result"
    }
   ],
   "source": [
    "cancelled_transactions = df[df['Invoice'].str.startswith('C', na=False)]\n",
    "df = df.drop(index = cancelled_transactions.index)\n",
    "df.shape"
   ]
  },
  {
   "cell_type": "markdown",
   "id": "df313fb7-11df-4a65-9153-4d6b37c9f469",
   "metadata": {},
   "source": [
    "Next, remove all transactions with non-positive **quantity** or **price**, as they hold no analytical value."
   ]
  },
  {
   "cell_type": "code",
   "execution_count": 421,
   "id": "48168963-5b29-4a2a-8574-731e739d62bd",
   "metadata": {},
   "outputs": [
    {
     "data": {
      "text/plain": [
       "(779423, 8)"
      ]
     },
     "execution_count": 421,
     "metadata": {},
     "output_type": "execute_result"
    }
   ],
   "source": [
    "valueless_transactions = df[(df['Quantity'] * df['Price'] <= 0)]\n",
    "df.drop(index = valueless_transactions.index, inplace = True)\n",
    "df.shape"
   ]
  },
  {
   "cell_type": "code",
   "execution_count": 429,
   "id": "c1230b31-f674-427d-a125-0621a52496d4",
   "metadata": {},
   "outputs": [
    {
     "data": {
      "text/plain": [
       "(776575, 8)"
      ]
     },
     "execution_count": 429,
     "metadata": {},
     "output_type": "execute_result"
    }
   ],
   "source": [
    "df = df[df['StockCode'].str.match(stockcode_pattern_to_keep)] \n",
    "df.shape"
   ]
  },
  {
   "cell_type": "markdown",
   "id": "318df034-d9af-452b-82f9-617e4177ada7",
   "metadata": {},
   "source": [
    "### 2.4. Feature Formatting\n",
    "Convert `InvoiceDate` to `datetime` and cast `Customer ID` to string for consistent data typing."
   ]
  },
  {
   "cell_type": "code",
   "execution_count": 436,
   "id": "9903afb3-c58e-4263-9e27-18f9829a0c7e",
   "metadata": {},
   "outputs": [
    {
     "data": {
      "text/plain": [
       "0         2009-12-01 07:45:00\n",
       "1         2009-12-01 07:45:00\n",
       "2         2009-12-01 07:45:00\n",
       "3         2009-12-01 07:45:00\n",
       "4         2009-12-01 07:45:00\n",
       "                  ...        \n",
       "1067365   2011-12-09 12:50:00\n",
       "1067366   2011-12-09 12:50:00\n",
       "1067367   2011-12-09 12:50:00\n",
       "1067368   2011-12-09 12:50:00\n",
       "1067369   2011-12-09 12:50:00\n",
       "Name: InvoiceDate, Length: 776575, dtype: datetime64[ns]"
      ]
     },
     "execution_count": 436,
     "metadata": {},
     "output_type": "execute_result"
    }
   ],
   "source": [
    "df['InvoiceDate'] = pd.to_datetime(df['InvoiceDate'])\n",
    "df['InvoiceDate']"
   ]
  },
  {
   "cell_type": "code",
   "execution_count": 438,
   "id": "579eb79c-a106-4c14-965d-ccc03975ef47",
   "metadata": {},
   "outputs": [
    {
     "data": {
      "text/plain": [
       "0          13085\n",
       "1          13085\n",
       "2          13085\n",
       "3          13085\n",
       "4          13085\n",
       "           ...  \n",
       "1067365    12680\n",
       "1067366    12680\n",
       "1067367    12680\n",
       "1067368    12680\n",
       "1067369    12680\n",
       "Name: Customer ID, Length: 776575, dtype: object"
      ]
     },
     "execution_count": 438,
     "metadata": {},
     "output_type": "execute_result"
    }
   ],
   "source": [
    "df['Customer ID'] = df['Customer ID'].astype(int).astype(str) # Wrap to int in order to drop \".0\"\n",
    "df['Customer ID']"
   ]
  },
  {
   "cell_type": "markdown",
   "id": "efc9734f-6c36-45de-b1f3-ff889a4a1ce3",
   "metadata": {},
   "source": [
    "### 2.5. Outlier Handling "
   ]
  },
  {
   "cell_type": "markdown",
   "id": "cd89cf0f-9dd1-43be-941d-251ece565cdc",
   "metadata": {},
   "source": [
    "To identify potential outliers, visually inspect the numeric features — `Quantity` and `Price`.\n"
   ]
  },
  {
   "cell_type": "code",
   "execution_count": 453,
   "id": "03fbe2bb-7420-4da9-b5d6-b963b07d94fb",
   "metadata": {},
   "outputs": [],
   "source": [
    "num_cols = ['Quantity', 'Price']"
   ]
  },
  {
   "cell_type": "code",
   "execution_count": 455,
   "id": "b71c36d9-5ad8-4fc9-930a-732e5e09dbd1",
   "metadata": {},
   "outputs": [
    {
     "data": {
      "text/html": [
       "<div>\n",
       "<style scoped>\n",
       "    .dataframe tbody tr th:only-of-type {\n",
       "        vertical-align: middle;\n",
       "    }\n",
       "\n",
       "    .dataframe tbody tr th {\n",
       "        vertical-align: top;\n",
       "    }\n",
       "\n",
       "    .dataframe thead th {\n",
       "        text-align: right;\n",
       "    }\n",
       "</style>\n",
       "<table border=\"1\" class=\"dataframe\">\n",
       "  <thead>\n",
       "    <tr style=\"text-align: right;\">\n",
       "      <th></th>\n",
       "      <th>count</th>\n",
       "      <th>mean</th>\n",
       "      <th>std</th>\n",
       "      <th>min</th>\n",
       "      <th>25%</th>\n",
       "      <th>50%</th>\n",
       "      <th>75%</th>\n",
       "      <th>max</th>\n",
       "    </tr>\n",
       "  </thead>\n",
       "  <tbody>\n",
       "    <tr>\n",
       "      <th>Quantity</th>\n",
       "      <td>776575.0</td>\n",
       "      <td>13.518887</td>\n",
       "      <td>146.096521</td>\n",
       "      <td>1.00</td>\n",
       "      <td>2.00</td>\n",
       "      <td>6.00</td>\n",
       "      <td>12.00</td>\n",
       "      <td>80995.0</td>\n",
       "    </tr>\n",
       "    <tr>\n",
       "      <th>Price</th>\n",
       "      <td>776575.0</td>\n",
       "      <td>2.934560</td>\n",
       "      <td>4.293615</td>\n",
       "      <td>0.03</td>\n",
       "      <td>1.25</td>\n",
       "      <td>1.95</td>\n",
       "      <td>3.75</td>\n",
       "      <td>649.5</td>\n",
       "    </tr>\n",
       "  </tbody>\n",
       "</table>\n",
       "</div>"
      ],
      "text/plain": [
       "             count       mean         std   min   25%   50%    75%      max\n",
       "Quantity  776575.0  13.518887  146.096521  1.00  2.00  6.00  12.00  80995.0\n",
       "Price     776575.0   2.934560    4.293615  0.03  1.25  1.95   3.75    649.5"
      ]
     },
     "execution_count": 455,
     "metadata": {},
     "output_type": "execute_result"
    }
   ],
   "source": [
    "df[num_cols].describe().T"
   ]
  },
  {
   "cell_type": "code",
   "execution_count": 457,
   "id": "bd69f762-a5b7-4e1d-9b00-64103864d0ed",
   "metadata": {},
   "outputs": [
    {
     "data": {
      "image/png": "[encoded data removed]",
      "text/plain": [
       "<Figure size 640x480 with 1 Axes>"
      ]
     },
     "metadata": {},
     "output_type": "display_data"
    }
   ],
   "source": [
    "df[num_cols].boxplot()\n",
    "plt.show()"
   ]
  },
  {
   "cell_type": "markdown",
   "id": "db193772-9ea8-4459-ae2a-d5410f894400",
   "metadata": {},
   "source": [
    "The distributions are distorted by extreme values. Let’s cap the outliers and replot histograms for both features to observe the corrected distributions."
   ]
  },
  {
   "cell_type": "code",
   "execution_count": 460,
   "id": "4385ef6e-f47b-4fe0-b107-3ad8eedebfad",
   "metadata": {},
   "outputs": [],
   "source": [
    "for col in num_cols:\n",
    "    df[col] = df[col].clip(upper=df[col].quantile(0.99))"
   ]
  },
  {
   "cell_type": "code",
   "execution_count": 462,
   "id": "5b1a2ea0-03e2-4d36-a136-3380da9f9a7e",
   "metadata": {},
   "outputs": [
    {
     "data": {
      "text/plain": [
       "<Figure size 640x480 with 0 Axes>"
      ]
     },
     "metadata": {},
     "output_type": "display_data"
    },
    {
     "data": {
      "image/png": "[encoded data removed]",
      "text/plain": [
       "<Figure size 1200x600 with 2 Axes>"
      ]
     },
     "metadata": {},
     "output_type": "display_data"
    }
   ],
   "source": [
    "plt.clf()\n",
    "plt.subplots(1,2, figsize = (12,6))\n",
    "\n",
    "for i in [0,1]:\n",
    "    plt.subplot(1,2, i + 1)\n",
    "    df[num_cols[i]].plot(kind = 'hist', bins = 25)\n",
    "\n",
    "plt.show()"
   ]
  },
  {
   "cell_type": "code",
   "execution_count": 464,
   "id": "c5eb981a-734d-424c-9eed-906bc6b7ce93",
   "metadata": {},
   "outputs": [
    {
     "data": {
      "image/png": "[encoded data removed]",
      "text/plain": [
       "<Figure size 640x480 with 1 Axes>"
      ]
     },
     "metadata": {},
     "output_type": "display_data"
    }
   ],
   "source": [
    "plt.clf()\n",
    "df[num_cols].boxplot()\n",
    "\n",
    "plt.show()"
   ]
  },
  {
   "cell_type": "markdown",
   "id": "1098833d-4bd7-4b4c-805b-913c2fd0a00f",
   "metadata": {},
   "source": [
    "* The **distribution remains highly skewed**, indicating a few customers purchase far more than average.\n",
    "* Even after capping, values cluster near the upper limit.\n",
    "* These represent **genuine heavy buyers**, not anomalies -- so we **retain them as valid data**."
   ]
  },
  {
   "cell_type": "markdown",
   "id": "14400596-6cc2-4e57-ad20-82239a3a559b",
   "metadata": {},
   "source": [
    "## 3. Feature Enineering"
   ]
  },
  {
   "cell_type": "markdown",
   "id": "d20bd3fb-ef31-4e14-87f0-21e37d53abe2",
   "metadata": {},
   "source": [
    "Create a new feature **`total_price`** = `Quantity × Price` to prepare for calculating the **Monetary** component of the RFM analysis.\n"
   ]
  },
  {
   "cell_type": "code",
   "execution_count": 469,
   "id": "8ef2823d-f8d0-402e-99bf-860eb2ae3fa5",
   "metadata": {},
   "outputs": [],
   "source": [
    "df['total_price'] = df.Quantity * df.Price"
   ]
  },
  {
   "cell_type": "markdown",
   "id": "e10b32b5-4ebf-49a3-831d-c8cc3899aa5e",
   "metadata": {},
   "source": [
    "Aggregate customer-level features directly from the cleaned dataset to summarize each client’s purchasing behavior."
   ]
  },
  {
   "cell_type": "code",
   "execution_count": 513,
   "id": "dbaef907-3561-46aa-8509-1c293477aa69",
   "metadata": {},
   "outputs": [
    {
     "data": {
      "text/html": [
       "<div>\n",
       "<style scoped>\n",
       "    .dataframe tbody tr th:only-of-type {\n",
       "        vertical-align: middle;\n",
       "    }\n",
       "\n",
       "    .dataframe tbody tr th {\n",
       "        vertical-align: top;\n",
       "    }\n",
       "\n",
       "    .dataframe thead th {\n",
       "        text-align: right;\n",
       "    }\n",
       "</style>\n",
       "<table border=\"1\" class=\"dataframe\">\n",
       "  <thead>\n",
       "    <tr style=\"text-align: right;\">\n",
       "      <th></th>\n",
       "      <th>Customer ID</th>\n",
       "      <th>frequency</th>\n",
       "      <th>monetary</th>\n",
       "      <th>total_quantity</th>\n",
       "      <th>last_purchase</th>\n",
       "    </tr>\n",
       "  </thead>\n",
       "  <tbody>\n",
       "    <tr>\n",
       "      <th>0</th>\n",
       "      <td>12346</td>\n",
       "      <td>3</td>\n",
       "      <td>319.12</td>\n",
       "      <td>168</td>\n",
       "      <td>2011-01-18 10:01:00</td>\n",
       "    </tr>\n",
       "    <tr>\n",
       "      <th>1</th>\n",
       "      <td>12347</td>\n",
       "      <td>8</td>\n",
       "      <td>4821.69</td>\n",
       "      <td>2871</td>\n",
       "      <td>2011-12-07 15:52:00</td>\n",
       "    </tr>\n",
       "    <tr>\n",
       "      <th>2</th>\n",
       "      <td>12348</td>\n",
       "      <td>5</td>\n",
       "      <td>1658.40</td>\n",
       "      <td>2704</td>\n",
       "      <td>2011-09-25 13:13:00</td>\n",
       "    </tr>\n",
       "    <tr>\n",
       "      <th>3</th>\n",
       "      <td>12349</td>\n",
       "      <td>3</td>\n",
       "      <td>3545.69</td>\n",
       "      <td>1621</td>\n",
       "      <td>2011-11-21 09:51:00</td>\n",
       "    </tr>\n",
       "    <tr>\n",
       "      <th>4</th>\n",
       "      <td>12350</td>\n",
       "      <td>1</td>\n",
       "      <td>294.40</td>\n",
       "      <td>196</td>\n",
       "      <td>2011-02-02 16:01:00</td>\n",
       "    </tr>\n",
       "    <tr>\n",
       "      <th>...</th>\n",
       "      <td>...</td>\n",
       "      <td>...</td>\n",
       "      <td>...</td>\n",
       "      <td>...</td>\n",
       "      <td>...</td>\n",
       "    </tr>\n",
       "    <tr>\n",
       "      <th>5847</th>\n",
       "      <td>18283</td>\n",
       "      <td>22</td>\n",
       "      <td>2655.75</td>\n",
       "      <td>1677</td>\n",
       "      <td>2011-12-06 12:02:00</td>\n",
       "    </tr>\n",
       "    <tr>\n",
       "      <th>5848</th>\n",
       "      <td>18284</td>\n",
       "      <td>1</td>\n",
       "      <td>411.68</td>\n",
       "      <td>493</td>\n",
       "      <td>2010-10-04 11:33:00</td>\n",
       "    </tr>\n",
       "    <tr>\n",
       "      <th>5849</th>\n",
       "      <td>18285</td>\n",
       "      <td>1</td>\n",
       "      <td>372.60</td>\n",
       "      <td>144</td>\n",
       "      <td>2010-02-17 10:24:00</td>\n",
       "    </tr>\n",
       "    <tr>\n",
       "      <th>5850</th>\n",
       "      <td>18286</td>\n",
       "      <td>2</td>\n",
       "      <td>1207.63</td>\n",
       "      <td>607</td>\n",
       "      <td>2010-08-20 11:57:00</td>\n",
       "    </tr>\n",
       "    <tr>\n",
       "      <th>5851</th>\n",
       "      <td>18287</td>\n",
       "      <td>7</td>\n",
       "      <td>4132.99</td>\n",
       "      <td>3012</td>\n",
       "      <td>2011-10-28 09:29:00</td>\n",
       "    </tr>\n",
       "  </tbody>\n",
       "</table>\n",
       "<p>5852 rows × 5 columns</p>\n",
       "</div>"
      ],
      "text/plain": [
       "     Customer ID  frequency  monetary  total_quantity       last_purchase\n",
       "0          12346          3    319.12             168 2011-01-18 10:01:00\n",
       "1          12347          8   4821.69            2871 2011-12-07 15:52:00\n",
       "2          12348          5   1658.40            2704 2011-09-25 13:13:00\n",
       "3          12349          3   3545.69            1621 2011-11-21 09:51:00\n",
       "4          12350          1    294.40             196 2011-02-02 16:01:00\n",
       "...          ...        ...       ...             ...                 ...\n",
       "5847       18283         22   2655.75            1677 2011-12-06 12:02:00\n",
       "5848       18284          1    411.68             493 2010-10-04 11:33:00\n",
       "5849       18285          1    372.60             144 2010-02-17 10:24:00\n",
       "5850       18286          2   1207.63             607 2010-08-20 11:57:00\n",
       "5851       18287          7   4132.99            3012 2011-10-28 09:29:00\n",
       "\n",
       "[5852 rows x 5 columns]"
      ]
     },
     "execution_count": 513,
     "metadata": {},
     "output_type": "execute_result"
    }
   ],
   "source": [
    "customer_df = df.groupby('Customer ID').agg(\n",
    "    frequency=('Invoice', 'nunique'),    # RFM Frequency\n",
    "    monetary=('total_price', 'sum'),        # RFM Monetary\n",
    "    total_quantity=('Quantity', 'sum'),     # Total items bought\n",
    "    last_purchase=('InvoiceDate', 'max'),  # For Recency\n",
    ").reset_index()\n",
    "customer_df"
   ]
  },
  {
   "cell_type": "code",
   "execution_count": 515,
   "id": "6ac29141-cecb-4128-8660-d3c06f9d74d7",
   "metadata": {},
   "outputs": [],
   "source": [
    "# Add RFM Recency\n",
    "import datetime as dt\n",
    "\n",
    "snapshot_date = df['InvoiceDate'].max() + dt.timedelta(days=1)\n",
    "customer_df['recency'] = (snapshot_date - customer_df['last_purchase']).dt.days"
   ]
  },
  {
   "cell_type": "markdown",
   "id": "e12070ec-0591-4c7b-9409-7d70957d339a",
   "metadata": {},
   "source": [
    "Since **Recency** has been derived, the intermediate `LastPurchase` column can be safely dropped."
   ]
  },
  {
   "cell_type": "code",
   "execution_count": 518,
   "id": "e26b8736-c5ad-4a15-b838-6fafa986bc37",
   "metadata": {},
   "outputs": [
    {
     "data": {
      "text/html": [
       "<div>\n",
       "<style scoped>\n",
       "    .dataframe tbody tr th:only-of-type {\n",
       "        vertical-align: middle;\n",
       "    }\n",
       "\n",
       "    .dataframe tbody tr th {\n",
       "        vertical-align: top;\n",
       "    }\n",
       "\n",
       "    .dataframe thead th {\n",
       "        text-align: right;\n",
       "    }\n",
       "</style>\n",
       "<table border=\"1\" class=\"dataframe\">\n",
       "  <thead>\n",
       "    <tr style=\"text-align: right;\">\n",
       "      <th></th>\n",
       "      <th>Customer ID</th>\n",
       "      <th>frequency</th>\n",
       "      <th>monetary</th>\n",
       "      <th>total_quantity</th>\n",
       "      <th>recency</th>\n",
       "    </tr>\n",
       "  </thead>\n",
       "  <tbody>\n",
       "    <tr>\n",
       "      <th>0</th>\n",
       "      <td>12346</td>\n",
       "      <td>3</td>\n",
       "      <td>319.12</td>\n",
       "      <td>168</td>\n",
       "      <td>326</td>\n",
       "    </tr>\n",
       "    <tr>\n",
       "      <th>1</th>\n",
       "      <td>12347</td>\n",
       "      <td>8</td>\n",
       "      <td>4821.69</td>\n",
       "      <td>2871</td>\n",
       "      <td>2</td>\n",
       "    </tr>\n",
       "    <tr>\n",
       "      <th>2</th>\n",
       "      <td>12348</td>\n",
       "      <td>5</td>\n",
       "      <td>1658.40</td>\n",
       "      <td>2704</td>\n",
       "      <td>75</td>\n",
       "    </tr>\n",
       "    <tr>\n",
       "      <th>3</th>\n",
       "      <td>12349</td>\n",
       "      <td>3</td>\n",
       "      <td>3545.69</td>\n",
       "      <td>1621</td>\n",
       "      <td>19</td>\n",
       "    </tr>\n",
       "    <tr>\n",
       "      <th>4</th>\n",
       "      <td>12350</td>\n",
       "      <td>1</td>\n",
       "      <td>294.40</td>\n",
       "      <td>196</td>\n",
       "      <td>310</td>\n",
       "    </tr>\n",
       "    <tr>\n",
       "      <th>...</th>\n",
       "      <td>...</td>\n",
       "      <td>...</td>\n",
       "      <td>...</td>\n",
       "      <td>...</td>\n",
       "      <td>...</td>\n",
       "    </tr>\n",
       "    <tr>\n",
       "      <th>5847</th>\n",
       "      <td>18283</td>\n",
       "      <td>22</td>\n",
       "      <td>2655.75</td>\n",
       "      <td>1677</td>\n",
       "      <td>4</td>\n",
       "    </tr>\n",
       "    <tr>\n",
       "      <th>5848</th>\n",
       "      <td>18284</td>\n",
       "      <td>1</td>\n",
       "      <td>411.68</td>\n",
       "      <td>493</td>\n",
       "      <td>432</td>\n",
       "    </tr>\n",
       "    <tr>\n",
       "      <th>5849</th>\n",
       "      <td>18285</td>\n",
       "      <td>1</td>\n",
       "      <td>372.60</td>\n",
       "      <td>144</td>\n",
       "      <td>661</td>\n",
       "    </tr>\n",
       "    <tr>\n",
       "      <th>5850</th>\n",
       "      <td>18286</td>\n",
       "      <td>2</td>\n",
       "      <td>1207.63</td>\n",
       "      <td>607</td>\n",
       "      <td>477</td>\n",
       "    </tr>\n",
       "    <tr>\n",
       "      <th>5851</th>\n",
       "      <td>18287</td>\n",
       "      <td>7</td>\n",
       "      <td>4132.99</td>\n",
       "      <td>3012</td>\n",
       "      <td>43</td>\n",
       "    </tr>\n",
       "  </tbody>\n",
       "</table>\n",
       "<p>5852 rows × 5 columns</p>\n",
       "</div>"
      ],
      "text/plain": [
       "     Customer ID  frequency  monetary  total_quantity  recency\n",
       "0          12346          3    319.12             168      326\n",
       "1          12347          8   4821.69            2871        2\n",
       "2          12348          5   1658.40            2704       75\n",
       "3          12349          3   3545.69            1621       19\n",
       "4          12350          1    294.40             196      310\n",
       "...          ...        ...       ...             ...      ...\n",
       "5847       18283         22   2655.75            1677        4\n",
       "5848       18284          1    411.68             493      432\n",
       "5849       18285          1    372.60             144      661\n",
       "5850       18286          2   1207.63             607      477\n",
       "5851       18287          7   4132.99            3012       43\n",
       "\n",
       "[5852 rows x 5 columns]"
      ]
     },
     "execution_count": 518,
     "metadata": {},
     "output_type": "execute_result"
    }
   ],
   "source": [
    "# Drop last_purchase after calculating recency\n",
    "customer_df.drop(columns = 'last_purchase', inplace = True)\n",
    "customer_df"
   ]
  },
  {
   "cell_type": "markdown",
   "id": "c0d86dbc-2269-419a-82c5-b083dd0bdb92",
   "metadata": {},
   "source": [
    "With the RFM features ready, enrich the dataset by adding additional behavioral customer attributes for deeper segmentation."
   ]
  },
  {
   "cell_type": "code",
   "execution_count": 523,
   "id": "98fa4b66-e949-4943-9dfe-b422ca20eb03",
   "metadata": {},
   "outputs": [
    {
     "data": {
      "text/html": [
       "<div>\n",
       "<style scoped>\n",
       "    .dataframe tbody tr th:only-of-type {\n",
       "        vertical-align: middle;\n",
       "    }\n",
       "\n",
       "    .dataframe tbody tr th {\n",
       "        vertical-align: top;\n",
       "    }\n",
       "\n",
       "    .dataframe thead th {\n",
       "        text-align: right;\n",
       "    }\n",
       "</style>\n",
       "<table border=\"1\" class=\"dataframe\">\n",
       "  <thead>\n",
       "    <tr style=\"text-align: right;\">\n",
       "      <th></th>\n",
       "      <th>Customer ID</th>\n",
       "      <th>frequency</th>\n",
       "      <th>monetary</th>\n",
       "      <th>total_quantity</th>\n",
       "      <th>recency</th>\n",
       "      <th>avg_busket_value</th>\n",
       "      <th>avg_items_per_order</th>\n",
       "      <th>avg_price_per_item</th>\n",
       "    </tr>\n",
       "  </thead>\n",
       "  <tbody>\n",
       "    <tr>\n",
       "      <th>0</th>\n",
       "      <td>12346</td>\n",
       "      <td>3</td>\n",
       "      <td>319.12</td>\n",
       "      <td>168</td>\n",
       "      <td>326</td>\n",
       "      <td>106.373333</td>\n",
       "      <td>56.000000</td>\n",
       "      <td>1.899524</td>\n",
       "    </tr>\n",
       "    <tr>\n",
       "      <th>1</th>\n",
       "      <td>12347</td>\n",
       "      <td>8</td>\n",
       "      <td>4821.69</td>\n",
       "      <td>2871</td>\n",
       "      <td>2</td>\n",
       "      <td>602.711250</td>\n",
       "      <td>358.875000</td>\n",
       "      <td>1.679446</td>\n",
       "    </tr>\n",
       "    <tr>\n",
       "      <th>2</th>\n",
       "      <td>12348</td>\n",
       "      <td>5</td>\n",
       "      <td>1658.40</td>\n",
       "      <td>2704</td>\n",
       "      <td>75</td>\n",
       "      <td>331.680000</td>\n",
       "      <td>540.800000</td>\n",
       "      <td>0.613314</td>\n",
       "    </tr>\n",
       "    <tr>\n",
       "      <th>3</th>\n",
       "      <td>12349</td>\n",
       "      <td>3</td>\n",
       "      <td>3545.69</td>\n",
       "      <td>1621</td>\n",
       "      <td>19</td>\n",
       "      <td>1181.896667</td>\n",
       "      <td>540.333333</td>\n",
       "      <td>2.187347</td>\n",
       "    </tr>\n",
       "    <tr>\n",
       "      <th>4</th>\n",
       "      <td>12350</td>\n",
       "      <td>1</td>\n",
       "      <td>294.40</td>\n",
       "      <td>196</td>\n",
       "      <td>310</td>\n",
       "      <td>294.400000</td>\n",
       "      <td>196.000000</td>\n",
       "      <td>1.502041</td>\n",
       "    </tr>\n",
       "    <tr>\n",
       "      <th>...</th>\n",
       "      <td>...</td>\n",
       "      <td>...</td>\n",
       "      <td>...</td>\n",
       "      <td>...</td>\n",
       "      <td>...</td>\n",
       "      <td>...</td>\n",
       "      <td>...</td>\n",
       "      <td>...</td>\n",
       "    </tr>\n",
       "    <tr>\n",
       "      <th>5847</th>\n",
       "      <td>18283</td>\n",
       "      <td>22</td>\n",
       "      <td>2655.75</td>\n",
       "      <td>1677</td>\n",
       "      <td>4</td>\n",
       "      <td>120.715909</td>\n",
       "      <td>76.227273</td>\n",
       "      <td>1.583631</td>\n",
       "    </tr>\n",
       "    <tr>\n",
       "      <th>5848</th>\n",
       "      <td>18284</td>\n",
       "      <td>1</td>\n",
       "      <td>411.68</td>\n",
       "      <td>493</td>\n",
       "      <td>432</td>\n",
       "      <td>411.680000</td>\n",
       "      <td>493.000000</td>\n",
       "      <td>0.835051</td>\n",
       "    </tr>\n",
       "    <tr>\n",
       "      <th>5849</th>\n",
       "      <td>18285</td>\n",
       "      <td>1</td>\n",
       "      <td>372.60</td>\n",
       "      <td>144</td>\n",
       "      <td>661</td>\n",
       "      <td>372.600000</td>\n",
       "      <td>144.000000</td>\n",
       "      <td>2.587500</td>\n",
       "    </tr>\n",
       "    <tr>\n",
       "      <th>5850</th>\n",
       "      <td>18286</td>\n",
       "      <td>2</td>\n",
       "      <td>1207.63</td>\n",
       "      <td>607</td>\n",
       "      <td>477</td>\n",
       "      <td>603.815000</td>\n",
       "      <td>303.500000</td>\n",
       "      <td>1.989506</td>\n",
       "    </tr>\n",
       "    <tr>\n",
       "      <th>5851</th>\n",
       "      <td>18287</td>\n",
       "      <td>7</td>\n",
       "      <td>4132.99</td>\n",
       "      <td>3012</td>\n",
       "      <td>43</td>\n",
       "      <td>590.427143</td>\n",
       "      <td>430.285714</td>\n",
       "      <td>1.372175</td>\n",
       "    </tr>\n",
       "  </tbody>\n",
       "</table>\n",
       "<p>5852 rows × 8 columns</p>\n",
       "</div>"
      ],
      "text/plain": [
       "     Customer ID  frequency  monetary  total_quantity  recency  \\\n",
       "0          12346          3    319.12             168      326   \n",
       "1          12347          8   4821.69            2871        2   \n",
       "2          12348          5   1658.40            2704       75   \n",
       "3          12349          3   3545.69            1621       19   \n",
       "4          12350          1    294.40             196      310   \n",
       "...          ...        ...       ...             ...      ...   \n",
       "5847       18283         22   2655.75            1677        4   \n",
       "5848       18284          1    411.68             493      432   \n",
       "5849       18285          1    372.60             144      661   \n",
       "5850       18286          2   1207.63             607      477   \n",
       "5851       18287          7   4132.99            3012       43   \n",
       "\n",
       "      avg_busket_value  avg_items_per_order  avg_price_per_item  \n",
       "0           106.373333            56.000000            1.899524  \n",
       "1           602.711250           358.875000            1.679446  \n",
       "2           331.680000           540.800000            0.613314  \n",
       "3          1181.896667           540.333333            2.187347  \n",
       "4           294.400000           196.000000            1.502041  \n",
       "...                ...                  ...                 ...  \n",
       "5847        120.715909            76.227273            1.583631  \n",
       "5848        411.680000           493.000000            0.835051  \n",
       "5849        372.600000           144.000000            2.587500  \n",
       "5850        603.815000           303.500000            1.989506  \n",
       "5851        590.427143           430.285714            1.372175  \n",
       "\n",
       "[5852 rows x 8 columns]"
      ]
     },
     "execution_count": 523,
     "metadata": {},
     "output_type": "execute_result"
    }
   ],
   "source": [
    "# Add Behavioral Features\n",
    "customer_df['avg_busket_value'] = customer_df.monetary / customer_df.frequency\n",
    "customer_df['avg_items_per_order'] = customer_df.total_quantity / customer_df.frequency\n",
    "customer_df['avg_price_per_item'] = customer_df.monetary / customer_df.total_quantity\n",
    "\n",
    "customer_df"
   ]
  },
  {
   "cell_type": "markdown",
   "id": "0fbb0d63-d05e-4f21-8d92-40c70e83bbd2",
   "metadata": {},
   "source": [
    "Round all columns to improve numerical stability and ensure consistent precision across the dataset."
   ]
  },
  {
   "cell_type": "code",
   "execution_count": 527,
   "id": "6b30bc65-c364-4026-86e8-61ee0ab3baa4",
   "metadata": {},
   "outputs": [
    {
     "data": {
      "text/html": [
       "<div>\n",
       "<style scoped>\n",
       "    .dataframe tbody tr th:only-of-type {\n",
       "        vertical-align: middle;\n",
       "    }\n",
       "\n",
       "    .dataframe tbody tr th {\n",
       "        vertical-align: top;\n",
       "    }\n",
       "\n",
       "    .dataframe thead th {\n",
       "        text-align: right;\n",
       "    }\n",
       "</style>\n",
       "<table border=\"1\" class=\"dataframe\">\n",
       "  <thead>\n",
       "    <tr style=\"text-align: right;\">\n",
       "      <th></th>\n",
       "      <th>Customer ID</th>\n",
       "      <th>frequency</th>\n",
       "      <th>monetary</th>\n",
       "      <th>total_quantity</th>\n",
       "      <th>recency</th>\n",
       "      <th>avg_busket_value</th>\n",
       "      <th>avg_items_per_order</th>\n",
       "      <th>avg_price_per_item</th>\n",
       "    </tr>\n",
       "  </thead>\n",
       "  <tbody>\n",
       "    <tr>\n",
       "      <th>0</th>\n",
       "      <td>12346</td>\n",
       "      <td>3</td>\n",
       "      <td>319.12</td>\n",
       "      <td>168</td>\n",
       "      <td>326</td>\n",
       "      <td>106.37</td>\n",
       "      <td>56.00</td>\n",
       "      <td>1.90</td>\n",
       "    </tr>\n",
       "    <tr>\n",
       "      <th>1</th>\n",
       "      <td>12347</td>\n",
       "      <td>8</td>\n",
       "      <td>4821.69</td>\n",
       "      <td>2871</td>\n",
       "      <td>2</td>\n",
       "      <td>602.71</td>\n",
       "      <td>358.88</td>\n",
       "      <td>1.68</td>\n",
       "    </tr>\n",
       "    <tr>\n",
       "      <th>2</th>\n",
       "      <td>12348</td>\n",
       "      <td>5</td>\n",
       "      <td>1658.40</td>\n",
       "      <td>2704</td>\n",
       "      <td>75</td>\n",
       "      <td>331.68</td>\n",
       "      <td>540.80</td>\n",
       "      <td>0.61</td>\n",
       "    </tr>\n",
       "  </tbody>\n",
       "</table>\n",
       "</div>"
      ],
      "text/plain": [
       "  Customer ID  frequency  monetary  total_quantity  recency  avg_busket_value  \\\n",
       "0       12346          3    319.12             168      326            106.37   \n",
       "1       12347          8   4821.69            2871        2            602.71   \n",
       "2       12348          5   1658.40            2704       75            331.68   \n",
       "\n",
       "   avg_items_per_order  avg_price_per_item  \n",
       "0                56.00                1.90  \n",
       "1               358.88                1.68  \n",
       "2               540.80                0.61  "
      ]
     },
     "execution_count": 527,
     "metadata": {},
     "output_type": "execute_result"
    }
   ],
   "source": [
    "customer_df = customer_df.round(2)\n",
    "\n",
    "customer_df.head(3)"
   ]
  },
  {
   "cell_type": "markdown",
   "id": "db062e84-0d71-4334-8979-415c8ff31fd4",
   "metadata": {},
   "source": [
    "### 6. Handle Outliers in Aggregated Features"
   ]
  },
  {
   "cell_type": "markdown",
   "id": "870fb4cd-5518-4e2a-9ba0-a8482431aca8",
   "metadata": {},
   "source": [
    "Inspect the aggregated dataset to identify any new outliers introduced during feature aggregation."
   ]
  },
  {
   "cell_type": "code",
   "execution_count": 529,
   "id": "10323554-40fd-41cb-83d4-d14c30ec5e5c",
   "metadata": {},
   "outputs": [
    {
     "data": {
      "image/png": "[encoded data removed]",
      "text/plain": [
       "<Figure size 640x480 with 1 Axes>"
      ]
     },
     "metadata": {},
     "output_type": "display_data"
    }
   ],
   "source": [
    "customer_df.boxplot()\n",
    "plt.show()"
   ]
  },
  {
   "cell_type": "markdown",
   "id": "3a54e801-3502-47e5-a551-098eae78ce6a",
   "metadata": {},
   "source": [
    "All new features except `recency` are heavily skewed and contain extreme outliers -- therefore, **capping** is required.\n"
   ]
  },
  {
   "cell_type": "code",
   "execution_count": 532,
   "id": "34eef507-f9d6-4167-9dc3-172daf662e16",
   "metadata": {},
   "outputs": [],
   "source": [
    "cols = ['frequency', 'monetary', 'total_quantity', 'avg_busket_value', 'avg_items_per_order', 'avg_price_per_item']\n",
    "for col in cols:\n",
    "    q_99 = customer_df[col].quantile(0.99)\n",
    "    customer_df[col] = customer_df[col].clip(upper = q_99)"
   ]
  },
  {
   "cell_type": "code",
   "execution_count": 534,
   "id": "3703e0c5-0ce8-4854-964e-abf52a95bf0b",
   "metadata": {},
   "outputs": [
    {
     "data": {
      "image/png": "[encoded data removed]",
      "text/plain": [
       "<Figure size 640x480 with 1 Axes>"
      ]
     },
     "metadata": {},
     "output_type": "display_data"
    }
   ],
   "source": [
    "customer_df.boxplot()\n",
    "plt.show()"
   ]
  },
  {
   "cell_type": "markdown",
   "id": "7d827935-bedb-4df3-be2b-f84b6f05b9b7",
   "metadata": {},
   "source": [
    "## 4. Save Processed Data"
   ]
  },
  {
   "cell_type": "markdown",
   "id": "bf9f17ca-f640-4f41-a1d8-07b5e06834c3",
   "metadata": {},
   "source": [
    "Outliers are now controlled and no longer distort the data. The dataset is ready for analysis after scaling during the modeling stage.  \n",
    "\n",
    "Before saving, drop the `Customer ID` column, as it’s no longer relevant."
   ]
  },
  {
   "cell_type": "code",
   "execution_count": 538,
   "id": "ab174850-a6a5-4476-a744-abf4a2d53f99",
   "metadata": {},
   "outputs": [
    {
     "data": {
      "text/html": [
       "<div>\n",
       "<style scoped>\n",
       "    .dataframe tbody tr th:only-of-type {\n",
       "        vertical-align: middle;\n",
       "    }\n",
       "\n",
       "    .dataframe tbody tr th {\n",
       "        vertical-align: top;\n",
       "    }\n",
       "\n",
       "    .dataframe thead th {\n",
       "        text-align: right;\n",
       "    }\n",
       "</style>\n",
       "<table border=\"1\" class=\"dataframe\">\n",
       "  <thead>\n",
       "    <tr style=\"text-align: right;\">\n",
       "      <th></th>\n",
       "      <th>frequency</th>\n",
       "      <th>monetary</th>\n",
       "      <th>total_quantity</th>\n",
       "      <th>recency</th>\n",
       "      <th>avg_busket_value</th>\n",
       "      <th>avg_items_per_order</th>\n",
       "      <th>avg_price_per_item</th>\n",
       "    </tr>\n",
       "  </thead>\n",
       "  <tbody>\n",
       "    <tr>\n",
       "      <th>0</th>\n",
       "      <td>3</td>\n",
       "      <td>319.12</td>\n",
       "      <td>168.0</td>\n",
       "      <td>326</td>\n",
       "      <td>106.37</td>\n",
       "      <td>56.0</td>\n",
       "      <td>1.9</td>\n",
       "    </tr>\n",
       "  </tbody>\n",
       "</table>\n",
       "</div>"
      ],
      "text/plain": [
       "   frequency  monetary  total_quantity  recency  avg_busket_value  \\\n",
       "0          3    319.12           168.0      326            106.37   \n",
       "\n",
       "   avg_items_per_order  avg_price_per_item  \n",
       "0                 56.0                 1.9  "
      ]
     },
     "execution_count": 538,
     "metadata": {},
     "output_type": "execute_result"
    }
   ],
   "source": [
    "customer_df.drop(columns = ['Customer ID'], inplace = True)\n",
    "\n",
    "customer_df.head(1)"
   ]
  },
  {
   "cell_type": "markdown",
   "id": "b6b7d5c1-9944-41f5-a9fa-0be354aa53e6",
   "metadata": {},
   "source": [
    "Save the dataset as a **.csv** file instead of **.parquet**, since it now contains only numeric features and no complex data types like `datetime`."
   ]
  },
  {
   "cell_type": "code",
   "execution_count": 545,
   "id": "57b7680d-1849-4594-9ff2-b80a032ef53d",
   "metadata": {},
   "outputs": [
    {
     "name": "stdout",
     "output_type": "stream",
     "text": [
      "File exported succesfully under ../data/processed_customer_data.csv\n"
     ]
    }
   ],
   "source": [
    "path = '../data/processed_customer_data.csv'\n",
    "customer_df.to_csv('../data/processed_customer_data.csv')\n",
    "print(f'File exported succesfully under {path}')"
   ]
  }
 ],
 "metadata": {
  "kernelspec": {
   "display_name": "Python [conda env:base] *",
   "language": "python",
   "name": "conda-base-py"
  },
  "language_info": {
   "codemirror_mode": {
    "name": "ipython",
    "version": 3
   },
   "file_extension": ".py",
   "mimetype": "text/x-python",
   "name": "python",
   "nbconvert_exporter": "python",
   "pygments_lexer": "ipython3",
   "version": "3.12.7"
  }
 },
 "nbformat": 4,
 "nbformat_minor": 5
}
